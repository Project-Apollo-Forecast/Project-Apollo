{
 "cells": [
  {
   "cell_type": "markdown",
   "id": "da80edc3",
   "metadata": {},
   "source": [
    "| Feature | Definition | Unit of Measurement|\n",
    "|:--------|:-----------|:---------------|\n",
    "|Adjusted_revenue| The total quarterly revenue of the target Company in dollars adjusted for inflation| U.S. Dollars, float|\n",
    "|Year| The year of the data |0000 year format|\n",
    "|Quarter| The quarter of the data |int 1-4|\n",
    "|Population|The U.S. population for the quarter|int|\n",
    "|Median_house_income| The median household income per quarter in dollars| U.S. Dollars, float|\n",
    "|Federal_fund_rate| The interest rate that U.S. banks pay one another top borrow or loan money overnight|percentage, float|\n",
    "|Unemp_rate| The unemployment rate, the number of residents without a job and looking for work divided by the total number of residents|percentage, float|\n",
    "|Home_ownership_rate| Home ownership rate by population|percentage, float|\n",
    "|Government_spending| Government spending in billions of dollars|U.S. Dollars, float|\n",
    "|Gdp_deflated| Measures changes in the prices of goods and services produced in the United States|float|\n",
    "|Cpi_all_items_avg| Measures price change experienced by urban consumers; the average change in price over time of a market basket of consumer goods and services|float|\n",
    "|Avg_temperature| The avg temperature for the quarter| float, fahrenheit|\n",
    "|Avg_precipitation| The avg rainfall for the quarter|float, inches|\n",
    "|Palmer_drought_index| The magnitude of PDSI indicates the severity of the departure from normal soil moisture conditions|float|\n",
    "|Eci|The Employment Cost Index, is a quarterly measure of the change in the price of labor, defined as compensation per employee hour worked|float|\n",
    "|Dow|Quarterly Dow Jones Industrial average| float|\n",
    "|P_election| If it is a presidential election year (1=yes)|int, 0-1|\n",
    "|Midterm_election| If it is a midterm election year (1=yes)|int, 0-1|\n",
    "|Violent_crime_rate|Violent crimes (involve force or threat of force) per 100,000 |percentage, float|\n",
    "|Consumer_confidence_index| An indication of future developments based on households' responses 100+ being a positive outlook|float|\n",
    "|Case_shiller_index| Benchmark of average single-family home prices in the U.S., calculated monthly based on changes in home prices over the prior three months|float|\n",
    "|Prime| The prime rate is the interest rate that commercial banks charge creditworthy customers|percentage, float|\n",
    "|Man_new_order|Motor Vehicles and Parts, Monthly, Seasonally Adjusted|U.S Dollars, float|\n",
    "|Construction_res|Total amount spent on residential construction| U.S. Dollars, float|\n",
    "|CLI|The composite leading indicator, designed to provide early signals of turning points in business cycles|float|\n",
    "|Soy|Soy bean prices| U.S. Dollars, float|\n",
    "|Misery_index|The measure of economic distress felt by everyday people, due to the risk of (or actual) joblessness combined with an increasing cost of living|float|\n",
    "|Gas_perc_change| Gas percentage change month over month; 3 month average quarters| percentage, float|\n",
    "|S_and_p|Standard and Poor's 500 Index of stocks quarterly average|U.S. Dollars, float|\n",
    "|Gini|The Gini index measures the inequality of individual or households 0 being perfectly unequal and 100 being perfectly equal|0-100, int|\n",
    "|Hdi| Human development index, a summary composite that measures of a country's health, knowledge and standard of living| float|\n",
    "|Auto_loan| The auto loan rate| percentage, float|\n",
    "|Velocity_of_money| The frequency at which one unit of currency is used to purchase domestically produced goods/services| float|\n",
    "|Loans_and_leases| loans and leases from banks| float|\n",
    "|Wti|West Texas Intermediate oil, a benchmark for the US oil market| float|\n",
    "|Brent_oil| Brent crude oil prices per quarter| U.S. Dollars, float|\n",
    "|Number_of_disaster| The number of FEMA disaster declarations per quarter| int|\n",
    "|Business_confidence_index| An indication of future developments based on business responses 100+ being positive| float|\n",
    "|C_e_s_housing|Consumer expenditure survey housing, the total amount spent on housing per family unit per year| U.S. Dollars, float|\n",
    "|C_e_s_health|Consumer expenditure survey health, the total amount spent on health per family unit per year|U.S. Dollars, float|\n",
    "|C_e_s_entertainment|Consumer expenditure survey entertainment, the total amount spent on entertainment per family unit per year| U.S. Dollars, float|\n",
    "|Ease_of_doing_business|A score that benchmark economies regulatory performance measured by Doing Business|0-100, float|\n",
    "|Wars_started| Number of wars per year| int|\n"
   ]
  }
 ],
 "metadata": {
  "kernelspec": {
   "display_name": "Python 3 (ipykernel)",
   "language": "python",
   "name": "python3"
  },
  "language_info": {
   "codemirror_mode": {
    "name": "ipython",
    "version": 3
   },
   "file_extension": ".py",
   "mimetype": "text/x-python",
   "name": "python",
   "nbconvert_exporter": "python",
   "pygments_lexer": "ipython3",
   "version": "3.9.13"
  }
 },
 "nbformat": 4,
 "nbformat_minor": 5
}
