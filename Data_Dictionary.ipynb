{
 "cells": [
  {
   "cell_type": "markdown",
   "id": "da80edc3",
   "metadata": {},
   "source": [
    "| Feature | Definition (measurement)|\n",
    "|:--------|:-----------|\n",
    "|adjusted_revenue| The total quarterly revenue of the target Company in dollars adjusted for inflation|\n",
    "|Year| The year of the data |\n",
    "|Quarter| The quarter of the data |\n",
    "|Population|The U.S. population for the quarter| \n",
    "|Median_house_income| The median household income per quarter in dollars|\n",
    "|Federal_fund_rate| The interest rate that U.S. banks pay one another top borrow or loan money overnight (percentage)|\n",
    "|Unemp_rate| The unemployment rate, the number of residents without a job and looking for work divided by the total number of residents|\n",
    "|Home_ownership_rate| Home ownership rate by population|\n",
    "|Government_spending| Government spending in billions of dollars|\n",
    "|Gdp_deflated| measures changes in the prices of goods and services produced in the United States|\n",
    "|Cpi_all_items_avg| Measures price change experienced by urban consumers; the average change in price over time of a market basket of consumer goods and services|\n",
    "|Avg_temperature| The avg temperature in fahrenheit for the quarter|\n",
    "|Avg_precipitation| The avg rainfall in inches for the quarter|\n",
    "|Palmer_drought_index| The magnitude of PDSI indicates the severity of the departure from normal soil moisture conditions|\n",
    "|eci|The Employment Cost Index, is a quarterly measure of the change in the price of labor, defined as compensation per employee hour worked|\n",
    "|dow|Quarterly Dow Jones Industrial average|\n",
    "|P_election| If it is a presidential election year (1=yes)|\n",
    "|Midterm_election| If it is a midterm election year (1=yes)|\n",
    "|Violent_crime_rate|Violent crimes (involve force or threat of force) per 100,000 |\n",
    "|Consumer_confidence_index| An indication of future developments based on households' responses 100+ being a positive outlook|\n",
    "|Case_shiller_index| benchmark of average single-family home prices in the U.S., calculated monthly based on changes in home prices over the prior three months |\n",
    "|Prime| The prime rate is the interest rate that commercial banks charge creditworthy customers|\n",
    "|Man_new_order|Motor Vehicles and Parts, Monthly, Seasonally Adjusted (in millions of dollars)|\n",
    "|Construction_res|Total amount spent on residential construction (in millions of dollars)|\n",
    "|CLI|The composite leading indicator, designed to provide early signals of turning points in business cycles|\n",
    "|Soy|Soy bean prices|\n",
    "|Misery_index|The measure of economic distress felt by everyday people, due to the risk of (or actual) joblessness combined with an increasing cost of living| \n"
   ]
  },
  {
   "cell_type": "code",
   "execution_count": null,
   "id": "9c85aca2",
   "metadata": {},
   "outputs": [],
   "source": []
  }
 ],
 "metadata": {
  "kernelspec": {
   "display_name": "Python 3 (ipykernel)",
   "language": "python",
   "name": "python3"
  },
  "language_info": {
   "codemirror_mode": {
    "name": "ipython",
    "version": 3
   },
   "file_extension": ".py",
   "mimetype": "text/x-python",
   "name": "python",
   "nbconvert_exporter": "python",
   "pygments_lexer": "ipython3",
   "version": "3.9.13"
  }
 },
 "nbformat": 4,
 "nbformat_minor": 5
}
