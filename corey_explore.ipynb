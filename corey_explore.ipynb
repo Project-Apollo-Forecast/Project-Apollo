{
 "cells": [
  {
   "cell_type": "markdown",
   "id": "58adc7fc-a001-4cc5-b852-71ec9b6fe01b",
   "metadata": {},
   "source": [
    "# Project Apollo"
   ]
  },
  {
   "cell_type": "markdown",
   "id": "3bde2140-d0ee-4ac2-8326-0a7d51876925",
   "metadata": {},
   "source": [
    "## Goal:\n",
    "- Objective 1\n",
    "- Objective 2"
   ]
  },
  {
   "cell_type": "markdown",
   "id": "dd199d9a-2435-47fd-bf9e-bf8b4591fb00",
   "metadata": {},
   "source": [
    "# Imports"
   ]
  },
  {
   "cell_type": "code",
   "execution_count": 34,
   "id": "9e5addb5-7672-4766-8666-e4a7a440a482",
   "metadata": {},
   "outputs": [],
   "source": [
    "import numpy as np\n",
    "import pandas as pd\n",
    "\n",
    "import matplotlib.pyplot as plt\n",
    "import seaborn as sns\n",
    "\n",
    "# import wrangle as w\n",
    "# import explore as e\n",
    "# import model as m\n",
    "# import evaluate as ev\n",
    "\n",
    "from sklearn.model_selection import train_test_split\n",
    "from scipy.stats import pearsonr, spearmanr, f_oneway, ttest_ind, shapiro, levene\n",
    "\n",
    "np.random.seed(123)"
   ]
  },
  {
   "cell_type": "markdown",
   "id": "aae87c0f-cef8-4380-97ec-0b20930d5395",
   "metadata": {
    "jupyter": {
     "source_hidden": true
    },
    "tags": []
   },
   "source": [
    "# Acquire\n",
    "- Data acquired from _____ (e.g. [data.world](https://data.world/food/wine_quality) )\n",
    "- It contained xx rows and xx columns before cleaning\n",
    "- Each row represents ____\n",
    "- Each column represents ____"
   ]
  },
  {
   "cell_type": "markdown",
   "id": "70cbae68-514e-4709-a682-fbb8eddf254c",
   "metadata": {
    "jupyter": {
     "source_hidden": true
    },
    "tags": []
   },
   "source": [
    "# Prepare\n",
    "- Removed ...\n",
    "- Renamed ...\n",
    "- Checked for nulls ...\n",
    "- Checked that column data types were appropriate ...\n",
    "- Outliers ?\n",
    "- Added target column?\n",
    "- Added additional features?\n",
    "- Encoded categorical variables\n",
    "- Split data into train, validate, and test (60/20/20), stratifying ...\n",
    "- Scaled continuous variables\n"
   ]
  },
  {
   "cell_type": "markdown",
   "id": "d639ef5a-93ff-49ea-bee9-d91f8c2c7ee3",
   "metadata": {
    "jupyter": {
     "source_hidden": true
    },
    "tags": []
   },
   "source": [
    "# Data Dictionary\n",
    "\n",
    "| Feature | Type | Definition |\n",
    "|:--------|:-----|:-----------|\n",
    "|feature_1 (target)|integer|definition 1|"
   ]
  },
  {
   "cell_type": "code",
   "execution_count": 3,
   "id": "4dbda891-a4bc-42a8-93f4-004c02e57547",
   "metadata": {},
   "outputs": [],
   "source": [
    "## acquireing and preparing data for exploration\n",
    "df = pd.read_csv('lets_do_this.csv')"
   ]
  },
  {
   "cell_type": "code",
   "execution_count": 8,
   "id": "722f3c32-7b15-4746-b986-476303968026",
   "metadata": {},
   "outputs": [],
   "source": [
    "def split_data(df):\n",
    "    '''\n",
    "    take in a DataFrame and target variable. return train, validate, and test DataFrames.\n",
    "    return train, validate, test DataFrames.\n",
    "    '''\n",
    "    train_validate, test = train_test_split(df, test_size=.2, random_state=123)\n",
    "    train, validate = train_test_split(train_validate, \n",
    "                                       test_size=.25, \n",
    "                                       random_state=123)\n",
    "    return train, validate, test\n"
   ]
  },
  {
   "cell_type": "code",
   "execution_count": 9,
   "id": "f3763681-bb62-4a20-ab60-b86df11b52bb",
   "metadata": {},
   "outputs": [],
   "source": [
    "## splitting data in to train, validate, and test\n",
    "train, validate, test = split_data(df)"
   ]
  },
  {
   "cell_type": "markdown",
   "id": "22d48fbc-168e-4fb4-b6f0-3c48309f4cbe",
   "metadata": {},
   "source": [
    "# A brief look at the data"
   ]
  },
  {
   "cell_type": "code",
   "execution_count": 10,
   "id": "6fe6a1b7-7ca0-4b60-96ab-33605f206802",
   "metadata": {},
   "outputs": [
    {
     "data": {
      "text/html": [
       "<div>\n",
       "<style scoped>\n",
       "    .dataframe tbody tr th:only-of-type {\n",
       "        vertical-align: middle;\n",
       "    }\n",
       "\n",
       "    .dataframe tbody tr th {\n",
       "        vertical-align: top;\n",
       "    }\n",
       "\n",
       "    .dataframe thead th {\n",
       "        text-align: right;\n",
       "    }\n",
       "</style>\n",
       "<table border=\"1\" class=\"dataframe\">\n",
       "  <thead>\n",
       "    <tr style=\"text-align: right;\">\n",
       "      <th></th>\n",
       "      <th>total_revenue_B</th>\n",
       "      <th>year</th>\n",
       "      <th>quarter</th>\n",
       "      <th>population</th>\n",
       "      <th>median_house_income</th>\n",
       "      <th>federal_fund_rate</th>\n",
       "      <th>unemp_rate</th>\n",
       "      <th>happiness_index</th>\n",
       "      <th>cost_of_living_index</th>\n",
       "      <th>home_ownership_rate</th>\n",
       "      <th>...</th>\n",
       "      <th>palmer_drought_index</th>\n",
       "      <th>eci</th>\n",
       "      <th>inventory_to_sales_ratio</th>\n",
       "      <th>total_flights</th>\n",
       "      <th>case_shiller_index</th>\n",
       "      <th>number_of_disaster</th>\n",
       "      <th>consumer_confidence_index</th>\n",
       "      <th>ease_of_doing_business</th>\n",
       "      <th>jobs_report</th>\n",
       "      <th>consumer_expenditure_survey</th>\n",
       "    </tr>\n",
       "  </thead>\n",
       "  <tbody>\n",
       "    <tr>\n",
       "      <th>24</th>\n",
       "      <td>39.146</td>\n",
       "      <td>2016</td>\n",
       "      <td>4</td>\n",
       "      <td>323.91</td>\n",
       "      <td>66657.0</td>\n",
       "      <td>0.12</td>\n",
       "      <td>4.7</td>\n",
       "      <td>7.1</td>\n",
       "      <td>58.4</td>\n",
       "      <td>63.7</td>\n",
       "      <td>...</td>\n",
       "      <td>-1.40</td>\n",
       "      <td>127.3</td>\n",
       "      <td>1.48</td>\n",
       "      <td>6015820</td>\n",
       "      <td>184.749000</td>\n",
       "      <td>376</td>\n",
       "      <td>100.890333</td>\n",
       "      <td>83.6</td>\n",
       "      <td>447.0</td>\n",
       "      <td>32387.0</td>\n",
       "    </tr>\n",
       "    <tr>\n",
       "      <th>1</th>\n",
       "      <td>43.999</td>\n",
       "      <td>2022</td>\n",
       "      <td>3</td>\n",
       "      <td>333.64</td>\n",
       "      <td>78595.0</td>\n",
       "      <td>2.56</td>\n",
       "      <td>3.5</td>\n",
       "      <td>7.0</td>\n",
       "      <td>59.0</td>\n",
       "      <td>66.0</td>\n",
       "      <td>...</td>\n",
       "      <td>-3.43</td>\n",
       "      <td>155.8</td>\n",
       "      <td>1.27</td>\n",
       "      <td>6517588</td>\n",
       "      <td>301.712333</td>\n",
       "      <td>535</td>\n",
       "      <td>96.364630</td>\n",
       "      <td>84.0</td>\n",
       "      <td>1270.0</td>\n",
       "      <td>33088.0</td>\n",
       "    </tr>\n",
       "    <tr>\n",
       "      <th>30</th>\n",
       "      <td>38.144</td>\n",
       "      <td>2015</td>\n",
       "      <td>2</td>\n",
       "      <td>320.43</td>\n",
       "      <td>64631.0</td>\n",
       "      <td>0.09</td>\n",
       "      <td>5.3</td>\n",
       "      <td>7.1</td>\n",
       "      <td>56.8</td>\n",
       "      <td>63.4</td>\n",
       "      <td>...</td>\n",
       "      <td>1.70</td>\n",
       "      <td>122.8</td>\n",
       "      <td>1.45</td>\n",
       "      <td>6799173</td>\n",
       "      <td>170.880667</td>\n",
       "      <td>473</td>\n",
       "      <td>100.945633</td>\n",
       "      <td>82.6</td>\n",
       "      <td>771.0</td>\n",
       "      <td>32109.0</td>\n",
       "    </tr>\n",
       "    <tr>\n",
       "      <th>23</th>\n",
       "      <td>39.853</td>\n",
       "      <td>2017</td>\n",
       "      <td>1</td>\n",
       "      <td>324.34</td>\n",
       "      <td>67571.0</td>\n",
       "      <td>0.13</td>\n",
       "      <td>4.4</td>\n",
       "      <td>7.0</td>\n",
       "      <td>58.6</td>\n",
       "      <td>63.6</td>\n",
       "      <td>...</td>\n",
       "      <td>-1.23</td>\n",
       "      <td>128.2</td>\n",
       "      <td>1.49</td>\n",
       "      <td>6529978</td>\n",
       "      <td>187.372000</td>\n",
       "      <td>190</td>\n",
       "      <td>101.364367</td>\n",
       "      <td>83.6</td>\n",
       "      <td>567.0</td>\n",
       "      <td>32500.0</td>\n",
       "    </tr>\n",
       "    <tr>\n",
       "      <th>21</th>\n",
       "      <td>41.326</td>\n",
       "      <td>2017</td>\n",
       "      <td>3</td>\n",
       "      <td>325.34</td>\n",
       "      <td>67571.0</td>\n",
       "      <td>0.15</td>\n",
       "      <td>4.3</td>\n",
       "      <td>7.0</td>\n",
       "      <td>58.3</td>\n",
       "      <td>63.6</td>\n",
       "      <td>...</td>\n",
       "      <td>-0.31</td>\n",
       "      <td>129.9</td>\n",
       "      <td>1.46</td>\n",
       "      <td>6986514</td>\n",
       "      <td>192.633667</td>\n",
       "      <td>1005</td>\n",
       "      <td>101.183167</td>\n",
       "      <td>83.6</td>\n",
       "      <td>411.0</td>\n",
       "      <td>32500.0</td>\n",
       "    </tr>\n",
       "  </tbody>\n",
       "</table>\n",
       "<p>5 rows × 31 columns</p>\n",
       "</div>"
      ],
      "text/plain": [
       "    total_revenue_B  year  quarter  population  median_house_income  \\\n",
       "24           39.146  2016        4      323.91              66657.0   \n",
       "1            43.999  2022        3      333.64              78595.0   \n",
       "30           38.144  2015        2      320.43              64631.0   \n",
       "23           39.853  2017        1      324.34              67571.0   \n",
       "21           41.326  2017        3      325.34              67571.0   \n",
       "\n",
       "    federal_fund_rate  unemp_rate  happiness_index  cost_of_living_index  \\\n",
       "24               0.12         4.7              7.1                  58.4   \n",
       "1                2.56         3.5              7.0                  59.0   \n",
       "30               0.09         5.3              7.1                  56.8   \n",
       "23               0.13         4.4              7.0                  58.6   \n",
       "21               0.15         4.3              7.0                  58.3   \n",
       "\n",
       "    home_ownership_rate  ...  palmer_drought_index    eci  \\\n",
       "24                 63.7  ...                 -1.40  127.3   \n",
       "1                  66.0  ...                 -3.43  155.8   \n",
       "30                 63.4  ...                  1.70  122.8   \n",
       "23                 63.6  ...                 -1.23  128.2   \n",
       "21                 63.6  ...                 -0.31  129.9   \n",
       "\n",
       "    inventory_to_sales_ratio  total_flights  case_shiller_index  \\\n",
       "24                      1.48        6015820          184.749000   \n",
       "1                       1.27        6517588          301.712333   \n",
       "30                      1.45        6799173          170.880667   \n",
       "23                      1.49        6529978          187.372000   \n",
       "21                      1.46        6986514          192.633667   \n",
       "\n",
       "    number_of_disaster  consumer_confidence_index  ease_of_doing_business  \\\n",
       "24                 376                 100.890333                    83.6   \n",
       "1                  535                  96.364630                    84.0   \n",
       "30                 473                 100.945633                    82.6   \n",
       "23                 190                 101.364367                    83.6   \n",
       "21                1005                 101.183167                    83.6   \n",
       "\n",
       "    jobs_report  consumer_expenditure_survey  \n",
       "24        447.0                      32387.0  \n",
       "1        1270.0                      33088.0  \n",
       "30        771.0                      32109.0  \n",
       "23        567.0                      32500.0  \n",
       "21        411.0                      32500.0  \n",
       "\n",
       "[5 rows x 31 columns]"
      ]
     },
     "execution_count": 10,
     "metadata": {},
     "output_type": "execute_result"
    }
   ],
   "source": [
    "train.head()"
   ]
  },
  {
   "cell_type": "markdown",
   "id": "5423f5c5-8e6a-453f-91c9-4e94665a470c",
   "metadata": {},
   "source": [
    "## A summary of the data"
   ]
  },
  {
   "cell_type": "code",
   "execution_count": 23,
   "id": "32bb29af-2e2c-486f-ad33-975bf7977fa1",
   "metadata": {},
   "outputs": [
    {
     "data": {
      "text/html": [
       "<div>\n",
       "<style scoped>\n",
       "    .dataframe tbody tr th:only-of-type {\n",
       "        vertical-align: middle;\n",
       "    }\n",
       "\n",
       "    .dataframe tbody tr th {\n",
       "        vertical-align: top;\n",
       "    }\n",
       "\n",
       "    .dataframe thead th {\n",
       "        text-align: right;\n",
       "    }\n",
       "</style>\n",
       "<table border=\"1\" class=\"dataframe\">\n",
       "  <thead>\n",
       "    <tr style=\"text-align: right;\">\n",
       "      <th></th>\n",
       "      <th>total_revenue_B</th>\n",
       "      <th>year</th>\n",
       "      <th>quarter</th>\n",
       "      <th>population</th>\n",
       "      <th>median_house_income</th>\n",
       "      <th>federal_fund_rate</th>\n",
       "      <th>unemp_rate</th>\n",
       "      <th>happiness_index</th>\n",
       "      <th>cost_of_living_index</th>\n",
       "      <th>home_ownership_rate</th>\n",
       "      <th>corruption_perception_index</th>\n",
       "      <th>government_spending</th>\n",
       "      <th>ppi_total_manufacturing</th>\n",
       "      <th>gdp_deflated</th>\n",
       "      <th>p_election</th>\n",
       "      <th>midterm_election</th>\n",
       "      <th>violent_crime_rate</th>\n",
       "      <th>cpi_all_items_avg</th>\n",
       "      <th>pce_nondurable_goods</th>\n",
       "      <th>avg_temperature</th>\n",
       "      <th>avg_precipitation</th>\n",
       "      <th>palmer_drought_index</th>\n",
       "      <th>eci</th>\n",
       "      <th>inventory_to_sales_ratio</th>\n",
       "      <th>total_flights</th>\n",
       "      <th>case_shiller_index</th>\n",
       "      <th>number_of_disaster</th>\n",
       "      <th>consumer_confidence_index</th>\n",
       "      <th>ease_of_doing_business</th>\n",
       "      <th>jobs_report</th>\n",
       "      <th>consumer_expenditure_survey</th>\n",
       "    </tr>\n",
       "  </thead>\n",
       "  <tbody>\n",
       "  </tbody>\n",
       "</table>\n",
       "</div>"
      ],
      "text/plain": [
       "Empty DataFrame\n",
       "Columns: [total_revenue_B, year, quarter, population, median_house_income, federal_fund_rate, unemp_rate, happiness_index, cost_of_living_index, home_ownership_rate, corruption_perception_index, government_spending, ppi_total_manufacturing, gdp_deflated, p_election, midterm_election, violent_crime_rate, cpi_all_items_avg, pce_nondurable_goods, avg_temperature, avg_precipitation, palmer_drought_index, eci, inventory_to_sales_ratio, total_flights, case_shiller_index, number_of_disaster, consumer_confidence_index, ease_of_doing_business, jobs_report, consumer_expenditure_survey]\n",
       "Index: []"
      ]
     },
     "execution_count": 23,
     "metadata": {},
     "output_type": "execute_result"
    }
   ],
   "source": [
    "train[train.total_revenue_B < 30]"
   ]
  },
  {
   "cell_type": "code",
   "execution_count": 11,
   "id": "e70fe2b1-c77a-43ae-86ac-4a2632dc3225",
   "metadata": {},
   "outputs": [
    {
     "name": "stdout",
     "output_type": "stream",
     "text": [
      "<class 'pandas.core.frame.DataFrame'>\n",
      "Int64Index: 22 entries, 24 to 25\n",
      "Data columns (total 31 columns):\n",
      " #   Column                       Non-Null Count  Dtype  \n",
      "---  ------                       --------------  -----  \n",
      " 0   total_revenue_B              22 non-null     float64\n",
      " 1   year                         22 non-null     int64  \n",
      " 2   quarter                      22 non-null     int64  \n",
      " 3   population                   22 non-null     float64\n",
      " 4   median_house_income          22 non-null     float64\n",
      " 5   federal_fund_rate            22 non-null     float64\n",
      " 6   unemp_rate                   22 non-null     float64\n",
      " 7   happiness_index              22 non-null     float64\n",
      " 8   cost_of_living_index         22 non-null     float64\n",
      " 9   home_ownership_rate          22 non-null     float64\n",
      " 10  corruption_perception_index  22 non-null     int64  \n",
      " 11  government_spending          22 non-null     float64\n",
      " 12  ppi_total_manufacturing      22 non-null     float64\n",
      " 13  gdp_deflated                 22 non-null     float64\n",
      " 14  p_election                   22 non-null     int64  \n",
      " 15  midterm_election             22 non-null     int64  \n",
      " 16  violent_crime_rate           22 non-null     float64\n",
      " 17  cpi_all_items_avg            22 non-null     float64\n",
      " 18  pce_nondurable_goods         22 non-null     float64\n",
      " 19  avg_temperature              22 non-null     float64\n",
      " 20  avg_precipitation            22 non-null     float64\n",
      " 21  palmer_drought_index         22 non-null     float64\n",
      " 22  eci                          22 non-null     float64\n",
      " 23  inventory_to_sales_ratio     22 non-null     float64\n",
      " 24  total_flights                22 non-null     int64  \n",
      " 25  case_shiller_index           22 non-null     float64\n",
      " 26  number_of_disaster           22 non-null     int64  \n",
      " 27  consumer_confidence_index    22 non-null     float64\n",
      " 28  ease_of_doing_business       22 non-null     float64\n",
      " 29  jobs_report                  22 non-null     float64\n",
      " 30  consumer_expenditure_survey  22 non-null     float64\n",
      "dtypes: float64(24), int64(7)\n",
      "memory usage: 5.5 KB\n"
     ]
    }
   ],
   "source": [
    "train.info()"
   ]
  },
  {
   "cell_type": "code",
   "execution_count": 14,
   "id": "df0b9b78-e706-46e0-8b8e-9f35b0ce0291",
   "metadata": {},
   "outputs": [],
   "source": [
    "##### to display all columns (df.head())\n",
    "pd.set_option('display.max_columns', None)"
   ]
  },
  {
   "cell_type": "code",
   "execution_count": 15,
   "id": "b24999eb-a486-4a38-8264-597f3056570b",
   "metadata": {},
   "outputs": [
    {
     "data": {
      "text/html": [
       "<div>\n",
       "<style scoped>\n",
       "    .dataframe tbody tr th:only-of-type {\n",
       "        vertical-align: middle;\n",
       "    }\n",
       "\n",
       "    .dataframe tbody tr th {\n",
       "        vertical-align: top;\n",
       "    }\n",
       "\n",
       "    .dataframe thead th {\n",
       "        text-align: right;\n",
       "    }\n",
       "</style>\n",
       "<table border=\"1\" class=\"dataframe\">\n",
       "  <thead>\n",
       "    <tr style=\"text-align: right;\">\n",
       "      <th></th>\n",
       "      <th>total_revenue_B</th>\n",
       "      <th>year</th>\n",
       "      <th>quarter</th>\n",
       "      <th>population</th>\n",
       "      <th>median_house_income</th>\n",
       "      <th>federal_fund_rate</th>\n",
       "      <th>unemp_rate</th>\n",
       "      <th>happiness_index</th>\n",
       "      <th>cost_of_living_index</th>\n",
       "      <th>home_ownership_rate</th>\n",
       "      <th>corruption_perception_index</th>\n",
       "      <th>government_spending</th>\n",
       "      <th>ppi_total_manufacturing</th>\n",
       "      <th>gdp_deflated</th>\n",
       "      <th>p_election</th>\n",
       "      <th>midterm_election</th>\n",
       "      <th>violent_crime_rate</th>\n",
       "      <th>cpi_all_items_avg</th>\n",
       "      <th>pce_nondurable_goods</th>\n",
       "      <th>avg_temperature</th>\n",
       "      <th>avg_precipitation</th>\n",
       "      <th>palmer_drought_index</th>\n",
       "      <th>eci</th>\n",
       "      <th>inventory_to_sales_ratio</th>\n",
       "      <th>total_flights</th>\n",
       "      <th>case_shiller_index</th>\n",
       "      <th>number_of_disaster</th>\n",
       "      <th>consumer_confidence_index</th>\n",
       "      <th>ease_of_doing_business</th>\n",
       "      <th>jobs_report</th>\n",
       "      <th>consumer_expenditure_survey</th>\n",
       "    </tr>\n",
       "  </thead>\n",
       "  <tbody>\n",
       "    <tr>\n",
       "      <th>count</th>\n",
       "      <td>22.000000</td>\n",
       "      <td>22.000000</td>\n",
       "      <td>22.000000</td>\n",
       "      <td>22.000000</td>\n",
       "      <td>22.000000</td>\n",
       "      <td>22.000000</td>\n",
       "      <td>22.000000</td>\n",
       "      <td>22.000000</td>\n",
       "      <td>22.000000</td>\n",
       "      <td>22.000000</td>\n",
       "      <td>22.000000</td>\n",
       "      <td>22.000000</td>\n",
       "      <td>22.000000</td>\n",
       "      <td>22.000000</td>\n",
       "      <td>22.000000</td>\n",
       "      <td>22.000000</td>\n",
       "      <td>22.000000</td>\n",
       "      <td>22.000000</td>\n",
       "      <td>22.000000</td>\n",
       "      <td>22.000000</td>\n",
       "      <td>22.000000</td>\n",
       "      <td>22.000000</td>\n",
       "      <td>22.000000</td>\n",
       "      <td>22.000000</td>\n",
       "      <td>2.200000e+01</td>\n",
       "      <td>22.000000</td>\n",
       "      <td>22.000000</td>\n",
       "      <td>22.000000</td>\n",
       "      <td>22.000000</td>\n",
       "      <td>22.000000</td>\n",
       "      <td>22.000000</td>\n",
       "    </tr>\n",
       "    <tr>\n",
       "      <th>mean</th>\n",
       "      <td>38.525636</td>\n",
       "      <td>2017.227273</td>\n",
       "      <td>2.909091</td>\n",
       "      <td>325.360909</td>\n",
       "      <td>68392.772727</td>\n",
       "      <td>0.666818</td>\n",
       "      <td>4.809091</td>\n",
       "      <td>7.022727</td>\n",
       "      <td>56.922727</td>\n",
       "      <td>63.940909</td>\n",
       "      <td>72.500000</td>\n",
       "      <td>4619.612864</td>\n",
       "      <td>195.677545</td>\n",
       "      <td>109.886318</td>\n",
       "      <td>0.227273</td>\n",
       "      <td>0.272727</td>\n",
       "      <td>386.354545</td>\n",
       "      <td>250.328500</td>\n",
       "      <td>99.611682</td>\n",
       "      <td>52.724091</td>\n",
       "      <td>2.615455</td>\n",
       "      <td>0.576818</td>\n",
       "      <td>132.072727</td>\n",
       "      <td>1.430909</td>\n",
       "      <td>6.210784e+06</td>\n",
       "      <td>200.413924</td>\n",
       "      <td>357.318182</td>\n",
       "      <td>100.283774</td>\n",
       "      <td>83.440909</td>\n",
       "      <td>808.681818</td>\n",
       "      <td>32504.409091</td>\n",
       "    </tr>\n",
       "    <tr>\n",
       "      <th>std</th>\n",
       "      <td>2.487106</td>\n",
       "      <td>2.486761</td>\n",
       "      <td>1.064988</td>\n",
       "      <td>4.746942</td>\n",
       "      <td>4807.011743</td>\n",
       "      <td>1.010287</td>\n",
       "      <td>1.169008</td>\n",
       "      <td>0.106600</td>\n",
       "      <td>2.111856</td>\n",
       "      <td>2.563602</td>\n",
       "      <td>3.173551</td>\n",
       "      <td>888.600365</td>\n",
       "      <td>17.882167</td>\n",
       "      <td>7.045023</td>\n",
       "      <td>0.428932</td>\n",
       "      <td>0.455842</td>\n",
       "      <td>13.115484</td>\n",
       "      <td>17.081964</td>\n",
       "      <td>4.988495</td>\n",
       "      <td>16.440636</td>\n",
       "      <td>0.574106</td>\n",
       "      <td>2.500700</td>\n",
       "      <td>10.306086</td>\n",
       "      <td>0.084172</td>\n",
       "      <td>6.830927e+05</td>\n",
       "      <td>37.259452</td>\n",
       "      <td>277.846375</td>\n",
       "      <td>1.438790</td>\n",
       "      <td>0.492476</td>\n",
       "      <td>769.654554</td>\n",
       "      <td>481.623807</td>\n",
       "    </tr>\n",
       "    <tr>\n",
       "      <th>min</th>\n",
       "      <td>33.900000</td>\n",
       "      <td>2013.000000</td>\n",
       "      <td>1.000000</td>\n",
       "      <td>317.060000</td>\n",
       "      <td>61468.000000</td>\n",
       "      <td>0.080000</td>\n",
       "      <td>3.500000</td>\n",
       "      <td>6.900000</td>\n",
       "      <td>52.000000</td>\n",
       "      <td>53.500000</td>\n",
       "      <td>67.000000</td>\n",
       "      <td>3773.864000</td>\n",
       "      <td>180.800000</td>\n",
       "      <td>102.515000</td>\n",
       "      <td>0.000000</td>\n",
       "      <td>0.000000</td>\n",
       "      <td>362.100000</td>\n",
       "      <td>233.049000</td>\n",
       "      <td>95.969000</td>\n",
       "      <td>31.060000</td>\n",
       "      <td>1.590000</td>\n",
       "      <td>-3.430000</td>\n",
       "      <td>119.100000</td>\n",
       "      <td>1.220000</td>\n",
       "      <td>4.018023e+06</td>\n",
       "      <td>160.103333</td>\n",
       "      <td>44.000000</td>\n",
       "      <td>96.364630</td>\n",
       "      <td>82.600000</td>\n",
       "      <td>411.000000</td>\n",
       "      <td>31417.000000</td>\n",
       "    </tr>\n",
       "    <tr>\n",
       "      <th>25%</th>\n",
       "      <td>36.283750</td>\n",
       "      <td>2015.250000</td>\n",
       "      <td>2.000000</td>\n",
       "      <td>321.965000</td>\n",
       "      <td>65137.500000</td>\n",
       "      <td>0.095000</td>\n",
       "      <td>3.925000</td>\n",
       "      <td>6.900000</td>\n",
       "      <td>56.325000</td>\n",
       "      <td>63.700000</td>\n",
       "      <td>69.000000</td>\n",
       "      <td>4066.973250</td>\n",
       "      <td>186.925000</td>\n",
       "      <td>105.150750</td>\n",
       "      <td>0.000000</td>\n",
       "      <td>0.000000</td>\n",
       "      <td>375.625000</td>\n",
       "      <td>239.233000</td>\n",
       "      <td>97.417250</td>\n",
       "      <td>35.985000</td>\n",
       "      <td>2.247500</td>\n",
       "      <td>-1.357500</td>\n",
       "      <td>124.725000</td>\n",
       "      <td>1.442500</td>\n",
       "      <td>5.987513e+06</td>\n",
       "      <td>176.626000</td>\n",
       "      <td>160.750000</td>\n",
       "      <td>99.860396</td>\n",
       "      <td>83.525000</td>\n",
       "      <td>516.500000</td>\n",
       "      <td>32178.500000</td>\n",
       "    </tr>\n",
       "    <tr>\n",
       "      <th>50%</th>\n",
       "      <td>38.753500</td>\n",
       "      <td>2017.000000</td>\n",
       "      <td>3.000000</td>\n",
       "      <td>325.070000</td>\n",
       "      <td>67571.000000</td>\n",
       "      <td>0.145000</td>\n",
       "      <td>4.550000</td>\n",
       "      <td>7.000000</td>\n",
       "      <td>57.300000</td>\n",
       "      <td>64.050000</td>\n",
       "      <td>74.000000</td>\n",
       "      <td>4229.399000</td>\n",
       "      <td>192.100000</td>\n",
       "      <td>107.640500</td>\n",
       "      <td>0.000000</td>\n",
       "      <td>0.000000</td>\n",
       "      <td>389.050000</td>\n",
       "      <td>245.739500</td>\n",
       "      <td>98.334500</td>\n",
       "      <td>56.030000</td>\n",
       "      <td>2.530000</td>\n",
       "      <td>0.435000</td>\n",
       "      <td>129.450000</td>\n",
       "      <td>1.465000</td>\n",
       "      <td>6.306024e+06</td>\n",
       "      <td>191.126833</td>\n",
       "      <td>275.000000</td>\n",
       "      <td>100.807100</td>\n",
       "      <td>83.600000</td>\n",
       "      <td>591.500000</td>\n",
       "      <td>32500.000000</td>\n",
       "    </tr>\n",
       "    <tr>\n",
       "      <th>75%</th>\n",
       "      <td>40.151500</td>\n",
       "      <td>2019.000000</td>\n",
       "      <td>4.000000</td>\n",
       "      <td>328.007500</td>\n",
       "      <td>71186.000000</td>\n",
       "      <td>0.755000</td>\n",
       "      <td>5.225000</td>\n",
       "      <td>7.100000</td>\n",
       "      <td>58.400000</td>\n",
       "      <td>64.800000</td>\n",
       "      <td>75.000000</td>\n",
       "      <td>4737.020250</td>\n",
       "      <td>196.500000</td>\n",
       "      <td>112.028500</td>\n",
       "      <td>0.000000</td>\n",
       "      <td>0.750000</td>\n",
       "      <td>396.100000</td>\n",
       "      <td>255.657750</td>\n",
       "      <td>99.293500</td>\n",
       "      <td>68.332500</td>\n",
       "      <td>2.782500</td>\n",
       "      <td>1.692500</td>\n",
       "      <td>136.475000</td>\n",
       "      <td>1.480000</td>\n",
       "      <td>6.552973e+06</td>\n",
       "      <td>207.797500</td>\n",
       "      <td>453.500000</td>\n",
       "      <td>101.206692</td>\n",
       "      <td>83.600000</td>\n",
       "      <td>795.000000</td>\n",
       "      <td>32859.000000</td>\n",
       "    </tr>\n",
       "    <tr>\n",
       "      <th>max</th>\n",
       "      <td>43.999000</td>\n",
       "      <td>2022.000000</td>\n",
       "      <td>4.000000</td>\n",
       "      <td>334.110000</td>\n",
       "      <td>79405.000000</td>\n",
       "      <td>4.100000</td>\n",
       "      <td>7.900000</td>\n",
       "      <td>7.200000</td>\n",
       "      <td>59.800000</td>\n",
       "      <td>67.400000</td>\n",
       "      <td>76.000000</td>\n",
       "      <td>7116.015000</td>\n",
       "      <td>251.891000</td>\n",
       "      <td>129.508000</td>\n",
       "      <td>1.000000</td>\n",
       "      <td>1.000000</td>\n",
       "      <td>405.000000</td>\n",
       "      <td>296.808000</td>\n",
       "      <td>114.806000</td>\n",
       "      <td>71.760000</td>\n",
       "      <td>4.060000</td>\n",
       "      <td>5.470000</td>\n",
       "      <td>157.600000</td>\n",
       "      <td>1.500000</td>\n",
       "      <td>7.219650e+06</td>\n",
       "      <td>301.712333</td>\n",
       "      <td>1086.000000</td>\n",
       "      <td>101.518100</td>\n",
       "      <td>84.000000</td>\n",
       "      <td>4140.000000</td>\n",
       "      <td>33088.000000</td>\n",
       "    </tr>\n",
       "  </tbody>\n",
       "</table>\n",
       "</div>"
      ],
      "text/plain": [
       "       total_revenue_B         year    quarter  population  \\\n",
       "count        22.000000    22.000000  22.000000   22.000000   \n",
       "mean         38.525636  2017.227273   2.909091  325.360909   \n",
       "std           2.487106     2.486761   1.064988    4.746942   \n",
       "min          33.900000  2013.000000   1.000000  317.060000   \n",
       "25%          36.283750  2015.250000   2.000000  321.965000   \n",
       "50%          38.753500  2017.000000   3.000000  325.070000   \n",
       "75%          40.151500  2019.000000   4.000000  328.007500   \n",
       "max          43.999000  2022.000000   4.000000  334.110000   \n",
       "\n",
       "       median_house_income  federal_fund_rate  unemp_rate  happiness_index  \\\n",
       "count            22.000000          22.000000   22.000000        22.000000   \n",
       "mean          68392.772727           0.666818    4.809091         7.022727   \n",
       "std            4807.011743           1.010287    1.169008         0.106600   \n",
       "min           61468.000000           0.080000    3.500000         6.900000   \n",
       "25%           65137.500000           0.095000    3.925000         6.900000   \n",
       "50%           67571.000000           0.145000    4.550000         7.000000   \n",
       "75%           71186.000000           0.755000    5.225000         7.100000   \n",
       "max           79405.000000           4.100000    7.900000         7.200000   \n",
       "\n",
       "       cost_of_living_index  home_ownership_rate  corruption_perception_index  \\\n",
       "count             22.000000            22.000000                    22.000000   \n",
       "mean              56.922727            63.940909                    72.500000   \n",
       "std                2.111856             2.563602                     3.173551   \n",
       "min               52.000000            53.500000                    67.000000   \n",
       "25%               56.325000            63.700000                    69.000000   \n",
       "50%               57.300000            64.050000                    74.000000   \n",
       "75%               58.400000            64.800000                    75.000000   \n",
       "max               59.800000            67.400000                    76.000000   \n",
       "\n",
       "       government_spending  ppi_total_manufacturing  gdp_deflated  p_election  \\\n",
       "count            22.000000                22.000000     22.000000   22.000000   \n",
       "mean           4619.612864               195.677545    109.886318    0.227273   \n",
       "std             888.600365                17.882167      7.045023    0.428932   \n",
       "min            3773.864000               180.800000    102.515000    0.000000   \n",
       "25%            4066.973250               186.925000    105.150750    0.000000   \n",
       "50%            4229.399000               192.100000    107.640500    0.000000   \n",
       "75%            4737.020250               196.500000    112.028500    0.000000   \n",
       "max            7116.015000               251.891000    129.508000    1.000000   \n",
       "\n",
       "       midterm_election  violent_crime_rate  cpi_all_items_avg  \\\n",
       "count         22.000000           22.000000          22.000000   \n",
       "mean           0.272727          386.354545         250.328500   \n",
       "std            0.455842           13.115484          17.081964   \n",
       "min            0.000000          362.100000         233.049000   \n",
       "25%            0.000000          375.625000         239.233000   \n",
       "50%            0.000000          389.050000         245.739500   \n",
       "75%            0.750000          396.100000         255.657750   \n",
       "max            1.000000          405.000000         296.808000   \n",
       "\n",
       "       pce_nondurable_goods  avg_temperature  avg_precipitation  \\\n",
       "count             22.000000        22.000000          22.000000   \n",
       "mean              99.611682        52.724091           2.615455   \n",
       "std                4.988495        16.440636           0.574106   \n",
       "min               95.969000        31.060000           1.590000   \n",
       "25%               97.417250        35.985000           2.247500   \n",
       "50%               98.334500        56.030000           2.530000   \n",
       "75%               99.293500        68.332500           2.782500   \n",
       "max              114.806000        71.760000           4.060000   \n",
       "\n",
       "       palmer_drought_index         eci  inventory_to_sales_ratio  \\\n",
       "count             22.000000   22.000000                 22.000000   \n",
       "mean               0.576818  132.072727                  1.430909   \n",
       "std                2.500700   10.306086                  0.084172   \n",
       "min               -3.430000  119.100000                  1.220000   \n",
       "25%               -1.357500  124.725000                  1.442500   \n",
       "50%                0.435000  129.450000                  1.465000   \n",
       "75%                1.692500  136.475000                  1.480000   \n",
       "max                5.470000  157.600000                  1.500000   \n",
       "\n",
       "       total_flights  case_shiller_index  number_of_disaster  \\\n",
       "count   2.200000e+01           22.000000           22.000000   \n",
       "mean    6.210784e+06          200.413924          357.318182   \n",
       "std     6.830927e+05           37.259452          277.846375   \n",
       "min     4.018023e+06          160.103333           44.000000   \n",
       "25%     5.987513e+06          176.626000          160.750000   \n",
       "50%     6.306024e+06          191.126833          275.000000   \n",
       "75%     6.552973e+06          207.797500          453.500000   \n",
       "max     7.219650e+06          301.712333         1086.000000   \n",
       "\n",
       "       consumer_confidence_index  ease_of_doing_business  jobs_report  \\\n",
       "count                  22.000000               22.000000    22.000000   \n",
       "mean                  100.283774               83.440909   808.681818   \n",
       "std                     1.438790                0.492476   769.654554   \n",
       "min                    96.364630               82.600000   411.000000   \n",
       "25%                    99.860396               83.525000   516.500000   \n",
       "50%                   100.807100               83.600000   591.500000   \n",
       "75%                   101.206692               83.600000   795.000000   \n",
       "max                   101.518100               84.000000  4140.000000   \n",
       "\n",
       "       consumer_expenditure_survey  \n",
       "count                    22.000000  \n",
       "mean                  32504.409091  \n",
       "std                     481.623807  \n",
       "min                   31417.000000  \n",
       "25%                   32178.500000  \n",
       "50%                   32500.000000  \n",
       "75%                   32859.000000  \n",
       "max                   33088.000000  "
      ]
     },
     "execution_count": 15,
     "metadata": {},
     "output_type": "execute_result"
    }
   ],
   "source": [
    "train.describe()"
   ]
  },
  {
   "cell_type": "markdown",
   "id": "f098fa1c-9ded-4a78-9ab9-ecfa70543e59",
   "metadata": {},
   "source": [
    "# Explore"
   ]
  },
  {
   "cell_type": "markdown",
   "id": "a5c5a01d-31a8-40cb-aa0b-b9f14a750e31",
   "metadata": {},
   "source": [
    "## Question 0 (e.g. What is the distribution of the target?)\n",
    "- NOTE: this question is more of a look at the data, not a stats test question"
   ]
  },
  {
   "cell_type": "code",
   "execution_count": 30,
   "id": "799e28c7-9419-414c-9b31-d56d313c16b1",
   "metadata": {},
   "outputs": [
    {
     "data": {
      "image/png": "[encoded data removed]",
      "text/plain": [
       "<Figure size 640x480 with 1 Axes>"
      ]
     },
     "metadata": {},
     "output_type": "display_data"
    }
   ],
   "source": [
    "# Example: # get a boxplot and histplot of total_revenue_B of train\n",
    "train.total_revenue_B.hist()\n",
    "plt.title('Histogram of Quarterly Revenue')\n",
    "plt.ylabel('number of quarters')\n",
    "plt.xlabel('revenue in $B')\n",
    "plt.show()"
   ]
  },
  {
   "cell_type": "markdown",
   "id": "8cd51b9e-3186-4a13-804b-036f93c1f219",
   "metadata": {},
   "source": [
    "## Test to see if total_revenue_B is normally distributed with shapiro test\n",
    "- $H_0$: The distribution of total_revenue_B is normal\n",
    "- $H_a$: The distribution is NOT normal\n",
    "- $\\alpha$ = .05"
   ]
  },
  {
   "cell_type": "code",
   "execution_count": 40,
   "id": "c1fd8c0f-2ed4-4f79-ab8e-04e00d6d6d09",
   "metadata": {},
   "outputs": [],
   "source": [
    "#test all columns for normality.  BL: All columns had p values > .05 which means\n",
    "# we cannot reject the H0 (i.e. we can assume normality)\n",
    "for col in train.columns:\n",
    "    stat, p = shapiro(train.total_revenue_B)\n",
    "    if p <= .05:\n",
    "        print(f'{col} column is NOT normally distributed.')"
   ]
  },
  {
   "cell_type": "code",
   "execution_count": 31,
   "id": "451fd08d-a8af-4b6b-ba38-1fd617b7f9cf",
   "metadata": {},
   "outputs": [
    {
     "data": {
      "text/plain": [
       "Index(['total_revenue_B', 'year', 'quarter', 'population',\n",
       "       'median_house_income', 'federal_fund_rate', 'unemp_rate',\n",
       "       'happiness_index', 'cost_of_living_index', 'home_ownership_rate',\n",
       "       'corruption_perception_index', 'government_spending',\n",
       "       'ppi_total_manufacturing', 'gdp_deflated', 'p_election',\n",
       "       'midterm_election', 'violent_crime_rate', 'cpi_all_items_avg',\n",
       "       'pce_nondurable_goods', 'avg_temperature', 'avg_precipitation',\n",
       "       'palmer_drought_index', 'eci', 'inventory_to_sales_ratio',\n",
       "       'total_flights', 'case_shiller_index', 'number_of_disaster',\n",
       "       'consumer_confidence_index', 'ease_of_doing_business', 'jobs_report',\n",
       "       'consumer_expenditure_survey'],\n",
       "      dtype='object')"
      ]
     },
     "execution_count": 31,
     "metadata": {},
     "output_type": "execute_result"
    }
   ],
   "source": [
    "train.columns"
   ]
  },
  {
   "cell_type": "code",
   "execution_count": 32,
   "id": "6b4b2354-3f47-4e76-a416-5696fda4715e",
   "metadata": {},
   "outputs": [],
   "source": [
    "env_cols = ['avg_temperature', 'avg_precipitation', 'palmer_drought_index', 'number_of_disasters']"
   ]
  },
  {
   "cell_type": "markdown",
   "id": "692e2149-b660-4f08-af79-f55dc288fcf0",
   "metadata": {},
   "source": [
    "## Question 1 (e.g. Is avg_temperature associated with total_revenue_B?)"
   ]
  },
  {
   "cell_type": "code",
   "execution_count": 33,
   "id": "b4d89248-6fdb-476c-9aec-7056d432effc",
   "metadata": {},
   "outputs": [
    {
     "data": {
      "image/png": "[encoded data removed]",
      "text/plain": [
       "<Figure size 640x480 with 1 Axes>"
      ]
     },
     "metadata": {},
     "output_type": "display_data"
    }
   ],
   "source": [
    "# Visualize Example: # get a regplot of avg_temperature vs total_revenue_B on train\n",
    "sns.regplot(data=train, x='avg_temperature', y='total_revenue_B')\n",
    "plt.show()"
   ]
  },
  {
   "cell_type": "markdown",
   "id": "0be0c02b-bc5b-4ea2-8cfd-e4d0bed55081",
   "metadata": {},
   "source": [
    "### Analyze avg_temperature vs total_revenue_B with stats\n",
    "- $H_0$: There is NO relationship between avg_temperature and total_revenue_B\n",
    "- $H_a$: There IS a relationship\n",
    "- $\\alpha$ = .05\n",
    "    - Utilize pearsonr - we are comparing continuous variables, normally distributed\n",
    "    - Check for equal variance first"
   ]
  },
  {
   "cell_type": "code",
   "execution_count": 41,
   "id": "6d7f7913-d9c2-4401-95f1-3fdffa7ff6f8",
   "metadata": {},
   "outputs": [
    {
     "data": {
      "text/plain": [
       "(162.69140166439712, 4.90036017287916e-16)"
      ]
     },
     "execution_count": 41,
     "metadata": {},
     "output_type": "execute_result"
    }
   ],
   "source": [
    "# H0: the two series have equal_variance;\n",
    "# Since p < .05; we can reject the H0 which implies that equal_variance is false\n",
    "stat, p = levene(train.total_revenue_B, train.avg_temperature)\n",
    "stat, p"
   ]
  },
  {
   "cell_type": "code",
   "execution_count": 43,
   "id": "3ee0e42c-71e8-4a04-aecd-17ac6a42dacc",
   "metadata": {},
   "outputs": [
    {
     "data": {
      "text/plain": [
       "(-0.020557232835653298, 0.9276492729889874)"
      ]
     },
     "execution_count": 43,
     "metadata": {},
     "output_type": "execute_result"
    }
   ],
   "source": [
    "# get the stats from a pearsonr test on feature_x vs target\n",
    "stat, p = pearsonr(train.total_revenue_B, train.avg_temperature)\n",
    "stat, p"
   ]
  },
  {
   "cell_type": "markdown",
   "id": "f4bc445a-23c3-42ab-8b61-b44b84fad81c",
   "metadata": {},
   "source": [
    "### Summarize\n",
    "- p is > $\\alpha$, so we can NOT reject the $H_0$ which suggest there is NOT a relationship between avg_temperature and total_revenue_B (and maybe more description)"
   ]
  },
  {
   "cell_type": "markdown",
   "id": "9ab029ee-2e57-4241-a727-6d8646873f8d",
   "metadata": {},
   "source": [
    "## Question 2 (e.g. Is feature_x associated with target?)"
   ]
  },
  {
   "cell_type": "code",
   "execution_count": 10,
   "id": "7ca01a96-cdbf-4fdc-a147-37981a5ffd62",
   "metadata": {},
   "outputs": [],
   "source": [
    "# Visualize Example: # get a regplot of squarefeet vs property_value on train\n",
    "## INSERT CODE HERE"
   ]
  },
  {
   "cell_type": "markdown",
   "id": "914c5bf2-e9b5-42b3-8723-bea67545d53f",
   "metadata": {},
   "source": [
    "### Analyze feature_x vs target with stats\n",
    "- $H_0$: There is NO relationship between feature_x and target\n",
    "- $H_a$: There IS a relationship\n",
    "- $\\alpha$ = .05\n",
    "    - Example 1: Utilize pearsonr - we are comparing continuous variables, normally distributed\n",
    "    - Example 2:Comparing a categorical to a continuous variable, normally distributed, and equal variance\n",
    "        - Testing if property value of has_pool == 1 is signicantly greater than has_pool == 0:  one-tail ttest\n",
    "        - Utilize f_oneway\n",
    "    - Many other stats tests"
   ]
  },
  {
   "cell_type": "code",
   "execution_count": 9,
   "id": "abeef95f-c078-4b78-9676-f8b5b9c6ba9f",
   "metadata": {},
   "outputs": [],
   "source": [
    "# get the stats from a pearsonr test on feature_x vs target\n",
    "## INSERT CODE HERE"
   ]
  },
  {
   "cell_type": "markdown",
   "id": "c412b2fb-1c5e-4384-ae8f-26a88747f998",
   "metadata": {},
   "source": [
    "### Summarize\n",
    "- p is < $\\alpha$, so we can reject the $H_0$ which suggest the $H_a$, i.e. there IS a relationship between feature_x and target (and maybe more description)"
   ]
  },
  {
   "cell_type": "markdown",
   "id": "6b59bf89-7cd7-45c1-8993-e01232adc37f",
   "metadata": {},
   "source": [
    "## Question 3 (e.g. Is feature_x associated with target?)"
   ]
  },
  {
   "cell_type": "code",
   "execution_count": 10,
   "id": "be92c1e8-7bf5-4805-8802-3628f17f9c90",
   "metadata": {},
   "outputs": [],
   "source": [
    "# Visualize Example: # get a regplot of squarefeet vs property_value on train\n",
    "## INSERT CODE HERE"
   ]
  },
  {
   "cell_type": "markdown",
   "id": "dcf41d59-f837-4c10-8393-303b8c7f1cb6",
   "metadata": {},
   "source": [
    "### Analyze feature_x vs target with stats\n",
    "- $H_0$: There is NO relationship between feature_x and target\n",
    "- $H_a$: There IS a relationship\n",
    "- $\\alpha$ = .05\n",
    "    - Example 1: Utilize pearsonr - we are comparing continuous variables, normally distributed\n",
    "    - Example 2:Comparing a categorical to a continuous variable, normally distributed, and equal variance\n",
    "        - Testing if property value of has_pool == 1 is signicantly greater than has_pool == 0:  one-tail ttest\n",
    "        - Utilize f_oneway\n",
    "    - Many other stats tests"
   ]
  },
  {
   "cell_type": "code",
   "execution_count": 9,
   "id": "b885b43a-8cdb-4713-be95-11f6584dca4b",
   "metadata": {},
   "outputs": [],
   "source": [
    "# get the stats from a pearsonr test on feature_x vs target\n",
    "## INSERT CODE HERE"
   ]
  },
  {
   "cell_type": "markdown",
   "id": "575b20c3-5452-4d79-b58a-94e396174c7c",
   "metadata": {},
   "source": [
    "### Summarize\n",
    "- p is < $\\alpha$, so we can reject the $H_0$ which suggest the $H_a$, i.e. there IS a relationship between feature_x and target (and maybe more description)"
   ]
  },
  {
   "cell_type": "markdown",
   "id": "5bcb94d7-9b6f-499c-a02c-5007c91cef09",
   "metadata": {},
   "source": [
    "## Question 4 (e.g. Is feature_x associated with target?)"
   ]
  },
  {
   "cell_type": "code",
   "execution_count": 10,
   "id": "71c328d9-b648-492a-bc80-0ca403429a01",
   "metadata": {},
   "outputs": [],
   "source": [
    "# Visualize Example: # get a regplot of squarefeet vs property_value on train\n",
    "## INSERT CODE HERE"
   ]
  },
  {
   "cell_type": "markdown",
   "id": "a669be59-4ecc-4339-a90c-97fc39fb7db2",
   "metadata": {},
   "source": [
    "### Analyze feature_x vs target with stats\n",
    "- $H_0$: There is NO relationship between feature_x and target\n",
    "- $H_a$: There IS a relationship\n",
    "- $\\alpha$ = .05\n",
    "    - Example 1: Utilize pearsonr - we are comparing continuous variables, normally distributed\n",
    "    - Example 2:Comparing a categorical to a continuous variable, normally distributed, and equal variance\n",
    "        - Testing if property value of has_pool == 1 is signicantly greater than has_pool == 0:  one-tail ttest\n",
    "        - Utilize f_oneway\n",
    "    - Many other stats tests"
   ]
  },
  {
   "cell_type": "code",
   "execution_count": 9,
   "id": "0ce59fa9-b6b8-4d10-9956-33c4eb13407a",
   "metadata": {},
   "outputs": [],
   "source": [
    "# get the stats from a pearsonr test on feature_x vs target\n",
    "## INSERT CODE HERE"
   ]
  },
  {
   "cell_type": "markdown",
   "id": "29f18be1-aa64-4d65-82b0-a51bf2552cea",
   "metadata": {},
   "source": [
    "### Summarize\n",
    "- p is < $\\alpha$, so we can reject the $H_0$ which suggest the $H_a$, i.e. there IS a relationship between feature_x and target (and maybe more description)"
   ]
  },
  {
   "cell_type": "markdown",
   "id": "61405f05-c95d-4259-8199-749c1c5687c0",
   "metadata": {},
   "source": [
    "## Exploration Summary\n",
    "* Plain English bullets as required\n",
    "\n",
    "* Features that have a relationship with target (stats test for feature_y, feature_z, etc. completed on separate working notebook:\n",
    "    * feature x ...\n",
    "    * feature y\n",
    "    * feature z\n"
   ]
  },
  {
   "cell_type": "markdown",
   "id": "1edf3028-b066-4bc7-b36f-973e93d1cf00",
   "metadata": {},
   "source": [
    "### (As Required) Features I am moving to modeling with"
   ]
  },
  {
   "cell_type": "markdown",
   "id": "03106467-78b4-4b91-ad02-ee5e1bd347b9",
   "metadata": {},
   "source": [
    "### (As Required) Features I am not moving to modeling with"
   ]
  },
  {
   "cell_type": "markdown",
   "id": "ce5644a9-dd6d-4cca-8967-551b6b7204d6",
   "metadata": {},
   "source": [
    "# Modeling\n",
    "* Evaluation Metrics (example: I will use R^2 and Root Mean Square Error (RMSE) as my evaluation metrics)\n",
    "    * for R^2, the value is in the range 0-1; closer to 1.0 is better; baseline is 0.0\n",
    "    * for RMSE, the lower the value the better; baseline is xxx\n",
    "* The average target is xxx which is the baseline prediction\n",
    "* I will evaluate x different model types and various hyperparameter configurations\n",
    "    * (Example: The four model types are Ordinary Least Squares (OLS), LassoLars, Polynomial Regression, Generalized Linear Model (GLM))\n",
    "* Models will be evaluated on train and validate data\n",
    "* The model that performs the best will then be evaluated on test"
   ]
  },
  {
   "cell_type": "code",
   "execution_count": 11,
   "id": "0c1e70d0-b1eb-431b-ae70-73ae4275f7be",
   "metadata": {},
   "outputs": [],
   "source": [
    "## prep data for modeling\n",
    "## INSERT CODE HERE (examples below\n",
    "\n",
    "# scaling continuous variable columns for use in modeling\n",
    "# to_scale = ['bathrooms', 'bedrooms', 'squarefeet', 'lotsize_sqft', 'year']\n",
    "# train_scaled, validate_scaled, test_scaled = w.get_minmax_scaled(train, validate, test, to_scale)\n",
    "\n",
    "# get X y splits for modeling\n",
    "# X_train_scaled, X_validate_scaled, X_test_scaled, y_train, y_validate, y_test = m.get_X_y_baseline(train_scaled, validate_scaled, test_scaled)"
   ]
  },
  {
   "cell_type": "markdown",
   "id": "fe366a63-f8f6-4a08-931b-b8211c26393f",
   "metadata": {},
   "source": [
    "## Model Name (example: Ordinary Least Squares (OLS) Regression)"
   ]
  },
  {
   "cell_type": "code",
   "execution_count": 12,
   "id": "0253d4ed-9907-441a-9f56-826b916f87f1",
   "metadata": {},
   "outputs": [],
   "source": [
    "# get model results\n",
    "# INSERT CODE HERE"
   ]
  },
  {
   "cell_type": "markdown",
   "id": "d3fa8e44-a95e-40bf-a33e-1121643eeb5c",
   "metadata": {},
   "source": [
    "* model name did/did not beat baseline"
   ]
  },
  {
   "cell_type": "markdown",
   "id": "23223c6d-3e73-4023-860a-f9096996a35d",
   "metadata": {},
   "source": [
    "## Model Name (example: LassoLars)"
   ]
  },
  {
   "cell_type": "code",
   "execution_count": 12,
   "id": "6982afc1-f59d-4542-8f9f-9e5f933c6270",
   "metadata": {},
   "outputs": [],
   "source": [
    "# get model results\n",
    "# INSERT CODE HERE"
   ]
  },
  {
   "cell_type": "markdown",
   "id": "3375facb-94b0-4c75-8fff-19d51d1cdaea",
   "metadata": {},
   "source": [
    "* model name did/did not beat baseline"
   ]
  },
  {
   "cell_type": "markdown",
   "id": "132b48fe-5ccb-4843-acf1-0128a962c03f",
   "metadata": {},
   "source": [
    "## Model Name (example: Polynomial Regression)"
   ]
  },
  {
   "cell_type": "code",
   "execution_count": 12,
   "id": "54393a40-ef22-4238-a8ed-2e9955e4716e",
   "metadata": {},
   "outputs": [],
   "source": [
    "# get model results\n",
    "# INSERT CODE HERE"
   ]
  },
  {
   "cell_type": "markdown",
   "id": "a7f23c07-e8c1-4110-b282-c5249351be47",
   "metadata": {},
   "source": [
    "* model name did/did not beat baseline"
   ]
  },
  {
   "cell_type": "markdown",
   "id": "9c8cd0b0-b255-45ce-b50c-5fb50086ad05",
   "metadata": {},
   "source": [
    "## Model Name (example: Generalized Linear Model (GLM))"
   ]
  },
  {
   "cell_type": "code",
   "execution_count": 12,
   "id": "aeb23ee3-9ac8-416e-b41b-042522c350e4",
   "metadata": {},
   "outputs": [],
   "source": [
    "# get model results\n",
    "# INSERT CODE HERE"
   ]
  },
  {
   "cell_type": "markdown",
   "id": "5c5424dd-05a1-4312-8ed0-0d9c10169891",
   "metadata": {},
   "source": [
    "* model name did/did not beat baseline"
   ]
  },
  {
   "cell_type": "markdown",
   "id": "38af26d7-2fc2-47c3-8bf2-cc435eca964d",
   "metadata": {},
   "source": [
    "## Comparing Models\n",
    "* summarize the model performance\n",
    "* ...\n",
    "* I have chosen to move forward with the ___ model on test"
   ]
  },
  {
   "cell_type": "markdown",
   "id": "f757c82b-fe9e-4cff-966a-5ca738701bf6",
   "metadata": {},
   "source": [
    "## Best Model (model name) on Test"
   ]
  },
  {
   "cell_type": "code",
   "execution_count": 14,
   "id": "b4e673af-5c0e-46d0-9ad2-e38c0074cd35",
   "metadata": {},
   "outputs": [],
   "source": [
    "# get test results for final model\n",
    "# INSERT CODE HERE"
   ]
  },
  {
   "cell_type": "code",
   "execution_count": 15,
   "id": "92aa61a8-8aba-4d9b-a4bb-eafb5129c109",
   "metadata": {},
   "outputs": [],
   "source": [
    "# maybe a visual of model performance (like a residual plot for a regression model)"
   ]
  },
  {
   "cell_type": "markdown",
   "id": "a0b5e7d9-7b20-47a0-8d4e-5fd718457ba9",
   "metadata": {},
   "source": [
    "## Modeling Summary\n",
    "* summary bullet 1 ..."
   ]
  },
  {
   "cell_type": "markdown",
   "id": "90a4de71-1dfa-4fb4-9db6-16ad478ecb21",
   "metadata": {},
   "source": [
    "# Conclusions"
   ]
  },
  {
   "cell_type": "markdown",
   "id": "525f5d7c-6d57-46fc-a73b-214d747fb463",
   "metadata": {},
   "source": [
    "## Exploration\n",
    "* bullets"
   ]
  },
  {
   "cell_type": "markdown",
   "id": "17f540ad-bda0-4fc3-b86d-dcc1a54e0be6",
   "metadata": {},
   "source": [
    "## Modeling\n",
    "* bullets"
   ]
  },
  {
   "cell_type": "markdown",
   "id": "2908b674-c768-40c2-8f99-0bc4cd59e719",
   "metadata": {},
   "source": [
    "## Recommendations\n",
    "* bullets"
   ]
  },
  {
   "cell_type": "markdown",
   "id": "f26aeb83-c95f-44d2-8d0d-d5a45a7851ef",
   "metadata": {},
   "source": [
    "## Next steps\n",
    "* bullets"
   ]
  }
 ],
 "metadata": {
  "kernelspec": {
   "display_name": "Python 3 (ipykernel)",
   "language": "python",
   "name": "python3"
  },
  "language_info": {
   "codemirror_mode": {
    "name": "ipython",
    "version": 3
   },
   "file_extension": ".py",
   "mimetype": "text/x-python",
   "name": "python",
   "nbconvert_exporter": "python",
   "pygments_lexer": "ipython3",
   "version": "3.9.13"
  }
 },
 "nbformat": 4,
 "nbformat_minor": 5
}
