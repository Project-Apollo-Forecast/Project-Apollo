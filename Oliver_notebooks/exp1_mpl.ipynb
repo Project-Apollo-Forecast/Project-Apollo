{
 "cells": [
  {
   "cell_type": "code",
   "execution_count": 1,
   "metadata": {},
   "outputs": [],
   "source": [
    "# mlp for regression\n",
    "#import libraries for plotting the results\n",
    "from numpy import mean\n",
    "from numpy import std\n",
    "from numpy import dstack\n",
    "from pandas import read_csv\n",
    "from matplotlib import pyplot\n",
    "\n",
    "#import scikeras\n",
    "#from scikeras.wrappers import KerasRegressor\n",
    "from sklearn.model_selection import cross_val_score\n",
    "from sklearn.model_selection import KFold\n",
    "\n",
    "from numpy import sqrt\n",
    "from pandas import read_csv\n",
    "from sklearn.model_selection import train_test_split\n",
    "from tensorflow.keras import Sequential\n",
    "from tensorflow.keras.layers import Dense\n",
    "import matplotlib.pyplot as plt\n",
    "import warnings\n",
    "warnings.filterwarnings('ignore')"
   ]
  },
  {
   "cell_type": "code",
   "execution_count": 2,
   "metadata": {},
   "outputs": [],
   "source": [
    "#import csv and turn it into a dataframe\n",
    "df = read_csv('entire_df_ford_adjusted.csv', header=0)"
   ]
  },
  {
   "cell_type": "code",
   "execution_count": 3,
   "metadata": {},
   "outputs": [],
   "source": [
    "this_is_it = read_csv(\"values_for_prediction_ford_adjusted.csv\", header=0)"
   ]
  },
  {
   "cell_type": "code",
   "execution_count": 4,
   "metadata": {},
   "outputs": [],
   "source": [
    "this_is_it = this_is_it.drop(['adjusted_revenue_B','year','quarter'], axis=1)"
   ]
  },
  {
   "cell_type": "code",
   "execution_count": 5,
   "metadata": {},
   "outputs": [],
   "source": [
    "# split off the target variable adjusted revenue into a dataframe\n",
    "target = df['adjusted_revenue_B']"
   ]
  },
  {
   "cell_type": "code",
   "execution_count": 6,
   "metadata": {},
   "outputs": [],
   "source": [
    "#drop adjusteed revenue from the original, year, and quater dataframe\n",
    "df = df.drop(['adjusted_revenue_B','year','quarter'], axis=1)"
   ]
  },
  {
   "cell_type": "code",
   "execution_count": 7,
   "metadata": {},
   "outputs": [
    {
     "data": {
      "text/html": [
       "<div>\n",
       "<style scoped>\n",
       "    .dataframe tbody tr th:only-of-type {\n",
       "        vertical-align: middle;\n",
       "    }\n",
       "\n",
       "    .dataframe tbody tr th {\n",
       "        vertical-align: top;\n",
       "    }\n",
       "\n",
       "    .dataframe thead th {\n",
       "        text-align: right;\n",
       "    }\n",
       "</style>\n",
       "<table border=\"1\" class=\"dataframe\">\n",
       "  <thead>\n",
       "    <tr style=\"text-align: right;\">\n",
       "      <th></th>\n",
       "      <th>population</th>\n",
       "      <th>median_house_income</th>\n",
       "      <th>federal_fund_rate</th>\n",
       "      <th>unemp_rate</th>\n",
       "      <th>misery_index</th>\n",
       "      <th>home_ownership_rate</th>\n",
       "      <th>government_spending</th>\n",
       "      <th>gdp_deflated</th>\n",
       "      <th>p_election</th>\n",
       "      <th>midterm_election</th>\n",
       "      <th>...</th>\n",
       "      <th>brent_oil</th>\n",
       "      <th>case_shiller_index</th>\n",
       "      <th>number_of_disaster</th>\n",
       "      <th>consumer_confidence_index</th>\n",
       "      <th>business_confidence_index</th>\n",
       "      <th>c_e_s_housing</th>\n",
       "      <th>c_e_s_health</th>\n",
       "      <th>c_e_s_entertainment</th>\n",
       "      <th>ease_of_doing_business</th>\n",
       "      <th>wars_started</th>\n",
       "    </tr>\n",
       "  </thead>\n",
       "  <tbody>\n",
       "    <tr>\n",
       "      <th>0</th>\n",
       "      <td>334.11</td>\n",
       "      <td>81628.790537</td>\n",
       "      <td>4.10</td>\n",
       "      <td>3.5</td>\n",
       "      <td>9.94494</td>\n",
       "      <td>65.9</td>\n",
       "      <td>6403.986018</td>\n",
       "      <td>129.508</td>\n",
       "      <td>0</td>\n",
       "      <td>1</td>\n",
       "      <td>...</td>\n",
       "      <td>83.785733</td>\n",
       "      <td>893.875</td>\n",
       "      <td>283</td>\n",
       "      <td>96.831203</td>\n",
       "      <td>99.187750</td>\n",
       "      <td>24111.337914</td>\n",
       "      <td>5802.886035</td>\n",
       "      <td>3415.686364</td>\n",
       "      <td>7</td>\n",
       "      <td>5</td>\n",
       "    </tr>\n",
       "    <tr>\n",
       "      <th>1</th>\n",
       "      <td>333.64</td>\n",
       "      <td>80793.111557</td>\n",
       "      <td>2.56</td>\n",
       "      <td>3.5</td>\n",
       "      <td>11.71485</td>\n",
       "      <td>66.0</td>\n",
       "      <td>6233.072139</td>\n",
       "      <td>128.269</td>\n",
       "      <td>0</td>\n",
       "      <td>1</td>\n",
       "      <td>...</td>\n",
       "      <td>93.142273</td>\n",
       "      <td>905.137</td>\n",
       "      <td>535</td>\n",
       "      <td>96.364630</td>\n",
       "      <td>99.728723</td>\n",
       "      <td>23908.986867</td>\n",
       "      <td>5756.706166</td>\n",
       "      <td>3400.958279</td>\n",
       "      <td>7</td>\n",
       "      <td>5</td>\n",
       "    </tr>\n",
       "    <tr>\n",
       "      <th>2</th>\n",
       "      <td>333.13</td>\n",
       "      <td>80193.425249</td>\n",
       "      <td>2.40</td>\n",
       "      <td>3.6</td>\n",
       "      <td>12.53299</td>\n",
       "      <td>65.8</td>\n",
       "      <td>6111.421484</td>\n",
       "      <td>126.907</td>\n",
       "      <td>0</td>\n",
       "      <td>1</td>\n",
       "      <td>...</td>\n",
       "      <td>121.187233</td>\n",
       "      <td>910.009</td>\n",
       "      <td>90</td>\n",
       "      <td>96.548767</td>\n",
       "      <td>100.379633</td>\n",
       "      <td>23747.293853</td>\n",
       "      <td>5720.319938</td>\n",
       "      <td>3392.036692</td>\n",
       "      <td>7</td>\n",
       "      <td>5</td>\n",
       "    </tr>\n",
       "    <tr>\n",
       "      <th>3</th>\n",
       "      <td>332.74</td>\n",
       "      <td>80164.549888</td>\n",
       "      <td>2.39</td>\n",
       "      <td>3.6</td>\n",
       "      <td>12.11522</td>\n",
       "      <td>65.4</td>\n",
       "      <td>6252.364765</td>\n",
       "      <td>124.174</td>\n",
       "      <td>0</td>\n",
       "      <td>1</td>\n",
       "      <td>...</td>\n",
       "      <td>119.325143</td>\n",
       "      <td>872.642</td>\n",
       "      <td>233</td>\n",
       "      <td>97.379660</td>\n",
       "      <td>101.000767</td>\n",
       "      <td>24266.758737</td>\n",
       "      <td>5848.096021</td>\n",
       "      <td>3480.869634</td>\n",
       "      <td>7</td>\n",
       "      <td>5</td>\n",
       "    </tr>\n",
       "    <tr>\n",
       "      <th>4</th>\n",
       "      <td>332.59</td>\n",
       "      <td>77462.986119</td>\n",
       "      <td>2.27</td>\n",
       "      <td>3.9</td>\n",
       "      <td>11.09446</td>\n",
       "      <td>65.5</td>\n",
       "      <td>6653.420897</td>\n",
       "      <td>121.708</td>\n",
       "      <td>0</td>\n",
       "      <td>0</td>\n",
       "      <td>...</td>\n",
       "      <td>81.724699</td>\n",
       "      <td>832.077</td>\n",
       "      <td>179</td>\n",
       "      <td>98.018177</td>\n",
       "      <td>101.525000</td>\n",
       "      <td>24758.739234</td>\n",
       "      <td>5966.435922</td>\n",
       "      <td>3505.226386</td>\n",
       "      <td>7</td>\n",
       "      <td>7</td>\n",
       "    </tr>\n",
       "  </tbody>\n",
       "</table>\n",
       "<p>5 rows × 40 columns</p>\n",
       "</div>"
      ],
      "text/plain": [
       "   population  median_house_income  federal_fund_rate  unemp_rate  \\\n",
       "0      334.11         81628.790537               4.10         3.5   \n",
       "1      333.64         80793.111557               2.56         3.5   \n",
       "2      333.13         80193.425249               2.40         3.6   \n",
       "3      332.74         80164.549888               2.39         3.6   \n",
       "4      332.59         77462.986119               2.27         3.9   \n",
       "\n",
       "   misery_index  home_ownership_rate  government_spending  gdp_deflated  \\\n",
       "0       9.94494                 65.9          6403.986018       129.508   \n",
       "1      11.71485                 66.0          6233.072139       128.269   \n",
       "2      12.53299                 65.8          6111.421484       126.907   \n",
       "3      12.11522                 65.4          6252.364765       124.174   \n",
       "4      11.09446                 65.5          6653.420897       121.708   \n",
       "\n",
       "   p_election  midterm_election  ...   brent_oil  case_shiller_index  \\\n",
       "0           0                 1  ...   83.785733             893.875   \n",
       "1           0                 1  ...   93.142273             905.137   \n",
       "2           0                 1  ...  121.187233             910.009   \n",
       "3           0                 1  ...  119.325143             872.642   \n",
       "4           0                 0  ...   81.724699             832.077   \n",
       "\n",
       "   number_of_disaster  consumer_confidence_index  business_confidence_index  \\\n",
       "0                 283                  96.831203                  99.187750   \n",
       "1                 535                  96.364630                  99.728723   \n",
       "2                  90                  96.548767                 100.379633   \n",
       "3                 233                  97.379660                 101.000767   \n",
       "4                 179                  98.018177                 101.525000   \n",
       "\n",
       "   c_e_s_housing  c_e_s_health  c_e_s_entertainment  ease_of_doing_business  \\\n",
       "0   24111.337914   5802.886035          3415.686364                       7   \n",
       "1   23908.986867   5756.706166          3400.958279                       7   \n",
       "2   23747.293853   5720.319938          3392.036692                       7   \n",
       "3   24266.758737   5848.096021          3480.869634                       7   \n",
       "4   24758.739234   5966.435922          3505.226386                       7   \n",
       "\n",
       "   wars_started  \n",
       "0             5  \n",
       "1             5  \n",
       "2             5  \n",
       "3             5  \n",
       "4             7  \n",
       "\n",
       "[5 rows x 40 columns]"
      ]
     },
     "execution_count": 7,
     "metadata": {},
     "output_type": "execute_result"
    }
   ],
   "source": [
    "df.head()"
   ]
  },
  {
   "cell_type": "code",
   "execution_count": 8,
   "metadata": {},
   "outputs": [
    {
     "name": "stdout",
     "output_type": "stream",
     "text": [
      "(60, 40) (20, 40) (60,) (20,)\n"
     ]
    }
   ],
   "source": [
    "# Train test split\n",
    "X_train, X_test, y_train, y_test = train_test_split(df,target, test_size=0.25, random_state=123)\n",
    "print(X_train.shape, X_test.shape, y_train.shape, y_test.shape)\n",
    "\n"
   ]
  },
  {
   "cell_type": "code",
   "execution_count": 9,
   "metadata": {},
   "outputs": [],
   "source": [
    "#scale x_train and x_test\n",
    "from sklearn.preprocessing import MinMaxScaler\n",
    "scaler=MinMaxScaler()\n",
    "X_train_scaled = scaler.fit_transform(X_train)\n",
    "X_test_scaled = scaler.transform(X_test)\n",
    "this_is_it_scaled = scaler.transform(this_is_it)\n",
    "# determine the number of input features\n"
   ]
  },
  {
   "cell_type": "code",
   "execution_count": 10,
   "metadata": {},
   "outputs": [
    {
     "name": "stdout",
     "output_type": "stream",
     "text": [
      "MSE:6.590268611907959, 18.09926986694336\n",
      "RMSE:2.567151848237256, 4.254323667393368\n"
     ]
    },
    {
     "data": {
      "text/plain": [
       "\"pyplot.title('Learning Curves')\\npyplot.xlabel('Epoch')\\npyplot.ylabel('Cross Entropy')\\npyplot.plot(history.history['loss'], label='train')\\npyplot.plot(history.history['val_loss'], label='val')\\npyplot.legend()\\npyplot.show()\""
      ]
     },
     "execution_count": 10,
     "metadata": {},
     "output_type": "execute_result"
    }
   ],
   "source": [
    "# this is a multilayer perceptron model for regression\n",
    "\n",
    "n_features = X_train_scaled.shape[1]\n",
    "# define model\n",
    "\n",
    "model = Sequential()\n",
    "model.add(Dense(20, activation='relu', kernel_initializer='he_normal', input_shape=(n_features,)))\n",
    "model.add(Dense(10, activation='relu', kernel_initializer='he_normal'))\n",
    "model.add(Dense(1))\n",
    "    # compile the model\n",
    "model.compile(optimizer='adam', loss='mse')\n",
    "    # fit the model\n",
    "history=model.fit(X_train_scaled, y_train, epochs=2000, batch_size=32, verbose=0)#, validation_split=0.2)\n",
    "# evaluate model\n",
    "\n",
    "   \n",
    "#evaluate the model\n",
    "error1 = model.evaluate(X_train_scaled, y_train, verbose=0)\n",
    "error2 = model.evaluate(X_test_scaled, y_test, verbose=0)\n",
    "\n",
    "# report the error\n",
    "print(f'MSE:{error1}, {error2}')\n",
    "print(f'RMSE:{sqrt(error1)}, {sqrt(error2)}') \n",
    "\n",
    "# plot learning curves for train and validation loss\n",
    "'''pyplot.title('Learning Curves')\n",
    "pyplot.xlabel('Epoch')\n",
    "pyplot.ylabel('Cross Entropy')\n",
    "pyplot.plot(history.history['loss'], label='train')\n",
    "pyplot.plot(history.history['val_loss'], label='val')\n",
    "pyplot.legend()\n",
    "pyplot.show()'''\n",
    "\n",
    "\n",
    "\n"
   ]
  },
  {
   "cell_type": "code",
   "execution_count": 11,
   "metadata": {},
   "outputs": [
    {
     "name": "stdout",
     "output_type": "stream",
     "text": [
      "1/1 [==============================] - 0s 183ms/step\n",
      "[[48.38808]]\n"
     ]
    }
   ],
   "source": [
    "# make a prediction\n",
    "row = this_is_it_scaled\n",
    "yhat = model.predict([row])\n",
    "print(yhat)"
   ]
  }
 ],
 "metadata": {
  "kernelspec": {
   "display_name": "tf",
   "language": "python",
   "name": "python3"
  },
  "language_info": {
   "codemirror_mode": {
    "name": "ipython",
    "version": 3
   },
   "file_extension": ".py",
   "mimetype": "text/x-python",
   "name": "python",
   "nbconvert_exporter": "python",
   "pygments_lexer": "ipython3",
   "version": "3.9.17"
  },
  "orig_nbformat": 4
 },
 "nbformat": 4,
 "nbformat_minor": 2
}
