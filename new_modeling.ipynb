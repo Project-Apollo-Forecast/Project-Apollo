{
 "cells": [
  {
   "cell_type": "code",
   "execution_count": 1,
   "metadata": {},
   "outputs": [],
   "source": [
    "import pandas as pd\n",
    "import numpy as np\n",
    "import matplotlib.pyplot as plt\n",
    "import seaborn as sns\n",
    "import os\n",
    "import re\n",
    "import gen_wrangle1 as gw\n",
    "#import train test split from sklearn\n",
    "from sklearn.model_selection import train_test_split\n",
    "#import stat tests\n",
    "import scipy.stats as stats\n",
    "from scipy.stats import pearsonr, spearmanr, ttest_ind, chi2_contingency\n",
    "from sklearn.feature_selection import SelectKBest, f_regression, RFE\n",
    "from sklearn.linear_model import LinearRegression, LassoLars, TweedieRegressor\n",
    "from sklearn.preprocessing import PolynomialFeatures\n",
    "from sklearn.preprocessing import MinMaxScaler, RobustScaler, StandardScaler\n",
    "from sklearn.metrics import mean_squared_error, r2_score, explained_variance_score\n",
    "from sklearn.model_selection import GridSearchCV\n",
    "#import maxabs_scale\n",
    "from sklearn.preprocessing import MaxAbsScaler\n",
    "#import\n",
    "from sklearn.model_selection import cross_val_score\n",
    "from math import sqrt\n",
    "import auto_model3 as am\n",
    "import warnings\n",
    "warnings.filterwarnings(\"ignore\")"
   ]
  },
  {
   "cell_type": "code",
   "execution_count": 2,
   "metadata": {},
   "outputs": [],
   "source": [
    "df = pd.read_csv('entire_df_ford_adjusted.csv')"
   ]
  },
  {
   "cell_type": "code",
   "execution_count": 3,
   "metadata": {},
   "outputs": [],
   "source": [
    "def split_data(df):\n",
    "    '''\n",
    "    Take in a DataFrame and perform a train-test split with a 70/30 ratio.\n",
    "    Return train and test DataFrames.\n",
    "    '''\n",
    "    train, test = train_test_split(df, test_size=0.25, random_state=123)\n",
    "    return train, test"
   ]
  },
  {
   "cell_type": "code",
   "execution_count": 4,
   "metadata": {},
   "outputs": [],
   "source": [
    "train, test = split_data(df)"
   ]
  },
  {
   "cell_type": "code",
   "execution_count": 5,
   "metadata": {},
   "outputs": [],
   "source": [
    "\n",
    "X_train = train[['population','median_house_income',\n",
    "    'misery_index', 'government_spending',\n",
    "    'gdp_deflated', 'violent_crime_rate',\n",
    "    'cpi_all_items_avg','eci', 'prime', \n",
    "    'gini', 'hdi', 'cli', 'velocity_of_money', \n",
    "    'soy', 'consumer_confidence_index',\n",
    "    'c_e_s_health', 'ease_of_doing_business']]\n",
    "X_test = test[['population','median_house_income',\n",
    "    'misery_index', 'government_spending',\n",
    "    'gdp_deflated', 'violent_crime_rate',\n",
    "    'cpi_all_items_avg','eci', 'prime', \n",
    "    'gini', 'hdi', 'cli', 'velocity_of_money', \n",
    "    'soy', 'consumer_confidence_index',\n",
    "    'c_e_s_health', 'ease_of_doing_business']]\n",
    "\n",
    "y_train = train.adjusted_revenue_B\n",
    "y_test = test.adjusted_revenue_B"
   ]
  },
  {
   "cell_type": "code",
   "execution_count": 6,
   "metadata": {},
   "outputs": [],
   "source": [
    "def scale_data(X_train, X_test):\n",
    "     #making our scaler\n",
    "    scaler = MinMaxScaler()\n",
    "    #fitting our scaler \n",
    "    # AND!!!!\n",
    "    #using the scaler on train\n",
    "    X_train_scaled = scaler.fit_transform(X_train)\n",
    "    #using our scaler on test\n",
    "    X_test_scaled = scaler.transform(X_test)\n",
    "\n",
    "    # Convert the array to a DataFrame\n",
    "    X_train_scaled = pd.DataFrame(X_train_scaled, columns=X_train.columns, index=X_train.index)\n",
    "    \n",
    "    # Convert the array to a DataFrame\n",
    "    X_test_scaled = pd.DataFrame(X_test_scaled,columns=X_test.columns, index=X_test.index)\n",
    "    \n",
    "    \n",
    "\n",
    "    return X_train_scaled, X_test_scaled"
   ]
  },
  {
   "cell_type": "code",
   "execution_count": 7,
   "metadata": {},
   "outputs": [],
   "source": [
    "X_train_scaled, X_test_scaled = scale_data(X_train, X_test)"
   ]
  },
  {
   "cell_type": "code",
   "execution_count": 8,
   "metadata": {},
   "outputs": [
    {
     "name": "stdout",
     "output_type": "stream",
     "text": [
      "           model       RMSE       r^2\n",
      "0  mean_baseline   9.458671  0.000000\n",
      "1          ols_1   5.408363  0.793834\n",
      "2          ols_2   5.408363  0.793834\n",
      "3           lars   9.670694  0.340826\n",
      "4           poly  13.991577 -0.379807\n",
      "5            glm   5.488366  0.787690\n",
      "\n",
      "\n",
      "The best model is the ols_1 model\n",
      "\n"
     ]
    }
   ],
   "source": [
    "am.auto_regress( y_train, train, X_train_scaled, y_test, X_test_scaled)"
   ]
  },
  {
   "cell_type": "code",
   "execution_count": null,
   "metadata": {},
   "outputs": [],
   "source": []
  }
 ],
 "metadata": {
  "kernelspec": {
   "display_name": "base",
   "language": "python",
   "name": "python3"
  },
  "language_info": {
   "codemirror_mode": {
    "name": "ipython",
    "version": 3
   },
   "file_extension": ".py",
   "mimetype": "text/x-python",
   "name": "python",
   "nbconvert_exporter": "python",
   "pygments_lexer": "ipython3",
   "version": "3.8.8"
  },
  "orig_nbformat": 4
 },
 "nbformat": 4,
 "nbformat_minor": 2
}
