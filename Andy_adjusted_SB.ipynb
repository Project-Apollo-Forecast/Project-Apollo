{
 "cells": [
  {
   "cell_type": "code",
   "execution_count": null,
   "id": "d8a1babb",
   "metadata": {},
   "outputs": [],
   "source": [
    "#doing things with data\n",
    "import pandas as pd\n",
    "import itertools\n",
    "import numpy as np\n",
    "import scipy.stats as stats\n",
    "from scipy.stats import pearsonr\n",
    "import math\n",
    "\n",
    "import matplotlib.pyplot as plt\n",
    "import seaborn as sns\n",
    "\n",
    "#import\n",
    "from sklearn.model_selection import GridSearchCV\n",
    "from sklearn.feature_selection import RFE\n",
    "from sklearn.model_selection import train_test_split\n",
    "from sklearn.linear_model import LinearRegression\n",
    "from sklearn.preprocessing import MinMaxScaler\n",
    "from sklearn.preprocessing import StandardScaler\n",
    "from sklearn.preprocessing import RobustScaler\n",
    "from sklearn.preprocessing import QuantileTransformer\n",
    "from sklearn.linear_model import LassoLars\n",
    "from sklearn.linear_model import TweedieRegressor\n",
    "from sklearn.preprocessing import PolynomialFeatures\n",
    "#import r2\n",
    "from sklearn.metrics import r2_score\n",
    "from sklearn.metrics import r2_score, mean_squared_error\n",
    "\n",
    "import warnings\n",
    "warnings.filterwarnings(\"ignore\")"
   ]
  },
  {
   "cell_type": "markdown",
   "id": "999952af",
   "metadata": {},
   "source": [
    "# Exploration"
   ]
  },
  {
   "cell_type": "code",
   "execution_count": null,
   "id": "b0b19f47",
   "metadata": {
    "scrolled": true
   },
   "outputs": [],
   "source": [
    "#import csv for exploration\n",
    "df = pd.read_excel('SB_dataframe_adjusted.xlsx')\n",
    "df"
   ]
  },
  {
   "cell_type": "code",
   "execution_count": null,
   "id": "abf4519e",
   "metadata": {},
   "outputs": [],
   "source": [
    "df.eci"
   ]
  },
  {
   "cell_type": "code",
   "execution_count": null,
   "id": "da48623d",
   "metadata": {},
   "outputs": [],
   "source": [
    "df.gdp_deflated\n"
   ]
  },
  {
   "cell_type": "code",
   "execution_count": null,
   "id": "6ba62026",
   "metadata": {},
   "outputs": [],
   "source": [
    "def split_data(df):\n",
    "    '''\n",
    "    Take in a DataFrame and perform a train-test split with a 70/30 ratio.\n",
    "    Return train and test DataFrames.\n",
    "    '''\n",
    "    train, test = train_test_split(df, test_size=0.25, random_state=123)\n",
    "    return train, test"
   ]
  },
  {
   "cell_type": "code",
   "execution_count": null,
   "id": "87ef8e75",
   "metadata": {},
   "outputs": [],
   "source": [
    "#split data into train, validate, test\n",
    "train, test = split_data(df)\n",
    "train.head()"
   ]
  },
  {
   "cell_type": "code",
   "execution_count": null,
   "id": "ac919476",
   "metadata": {},
   "outputs": [],
   "source": [
    "def plot_that_target(train):\n",
    "    \"\"\"\n",
    "    Visualize the target variable.\n",
    "\n",
    "    Parameters:\n",
    "    -----------\n",
    "    train: pandas DataFrame\n",
    "        \n",
    "    Returns:\n",
    "    --------\n",
    "    countplot of revenue in the train data set\n",
    "    \"\"\"\n",
    "    sns.histplot(data=train, x='adjusted_revenue_S')\n",
    "    plt.title('Ford revenue in Billions')\n",
    "    plt.xlabel('Revenue in Billions')\n",
    "    plt.ylabel('Quarters')\n",
    "    plt.show\n",
    "\n",
    "    return"
   ]
  },
  {
   "cell_type": "code",
   "execution_count": null,
   "id": "5b92a80d",
   "metadata": {},
   "outputs": [],
   "source": [
    "#use function to see\n",
    "plot_that_target(train)"
   ]
  },
  {
   "cell_type": "markdown",
   "id": "33fc3a73",
   "metadata": {},
   "source": [
    "# Check for normalcy\n",
    "$H_{0}$ The target is normally distributed.\n",
    "    \n",
    "$H_{a}$ The target is not normally distributed."
   ]
  },
  {
   "cell_type": "code",
   "execution_count": null,
   "id": "6de50764",
   "metadata": {},
   "outputs": [],
   "source": [
    "#check target for normalcy\n",
    "statistic, p_value = stats.shapiro(train.adjusted_revenue_S)\n",
    "\n",
    "# Print the test results\n",
    "print(\"Shapiro-Wilk Test\")\n",
    "print(\"Statistic:\", statistic)\n",
    "print(\"p-value:\", p_value)"
   ]
  },
  {
   "cell_type": "markdown",
   "id": "41e62f37",
   "metadata": {},
   "source": [
    "- based on the p-value being less than 0.05, we reject the null hypothesis and can infer that the target total revenue is not normally distributed.\n",
    "- using this information, we will not assume normality\n",
    "    - the requirement for pearson's correlation test is that both variables be normally distributed\n",
    "    - since our target is non-parametric, we will us the spearman's rank correlation test as our statistical test for all continuous to continuous variable testing."
   ]
  },
  {
   "cell_type": "markdown",
   "id": "67793586",
   "metadata": {},
   "source": [
    "# View Pairwise relationships"
   ]
  },
  {
   "cell_type": "code",
   "execution_count": null,
   "id": "2614d14f",
   "metadata": {},
   "outputs": [],
   "source": [
    "def plot_variable_pairs(train):\n",
    "    sns.set(style=\"ticks\")\n",
    "    sns.pairplot(train, kind=\"reg\", corner = True, hue='adjusted_revenue_S', plot_kws={'line_kws': {'color': 'red'}})\n",
    "    plt.show()"
   ]
  },
  {
   "cell_type": "code",
   "execution_count": null,
   "id": "1b05b95b",
   "metadata": {
    "scrolled": false
   },
   "outputs": [],
   "source": [
    "# use functions to see pairwise relationships\n",
    "plot_variable_pairs(train)"
   ]
  },
  {
   "cell_type": "markdown",
   "id": "d79d4986",
   "metadata": {},
   "source": [
    "# Uni-variate analysis"
   ]
  },
  {
   "cell_type": "code",
   "execution_count": null,
   "id": "95b1974f",
   "metadata": {},
   "outputs": [],
   "source": [
    "def univariate_visual(df):\n",
    "    '''\n",
    "    creates histplots for all of my columns\n",
    "    '''\n",
    "    num_cols = df.shape[1]\n",
    "    num_rows = math.ceil(num_cols / 3)\n",
    "    fig, axes = plt.subplots(num_rows, 3, figsize=(14, 4*num_rows))\n",
    "    axes = axes.flatten()\n",
    "\n",
    "    for i, col in enumerate(df.columns):\n",
    "        sns.histplot(df[col], ax=axes[i])\n",
    "        axes[i].set_title(col)\n",
    "        axes[i].tick_params(rotation=45)\n",
    "\n",
    "    plt.tight_layout()\n",
    "    plt.show()"
   ]
  },
  {
   "cell_type": "code",
   "execution_count": null,
   "id": "3f792870",
   "metadata": {
    "scrolled": true
   },
   "outputs": [],
   "source": [
    "#run function to perform visual univariate analysis\n",
    "univariate_visual(train)"
   ]
  },
  {
   "cell_type": "markdown",
   "id": "80be7263",
   "metadata": {},
   "source": [
    "# Bi-variate analysis"
   ]
  },
  {
   "cell_type": "markdown",
   "id": "b728f3d4",
   "metadata": {},
   "source": [
    "# Brent oil price per barrel"
   ]
  },
  {
   "cell_type": "markdown",
   "id": "56eae938",
   "metadata": {},
   "source": [
    "Does brent oil price per barrel impact revenue at Starbucks?\n",
    "\n",
    "$H_{0}$ Brent oil price per barrel does not influence revenue.\n",
    "\n",
    "$H_{a}$ Brent oil price per barrel does influence revenue."
   ]
  },
  {
   "cell_type": "markdown",
   "id": "3ad05a21",
   "metadata": {},
   "source": [
    "### Visualize"
   ]
  },
  {
   "cell_type": "code",
   "execution_count": null,
   "id": "67c5f0af",
   "metadata": {},
   "outputs": [],
   "source": [
    "# Scatter plot to visualize the relationship\n",
    "plt.scatter(train['adjusted_revenue_S'], train['brent_oil'], label='Data')\n",
    "\n",
    "# Fit a linear regression model\n",
    "slope, intercept, r_value, p_value, std_err = stats.linregress(train['adjusted_revenue_S'], train['brent_oil'])\n",
    "line = slope * train['adjusted_revenue_S'] + intercept\n",
    "\n",
    "# Plot the regression line\n",
    "plt.plot(train['adjusted_revenue_S'], line, color='red', label='Regression Line')\n",
    "\n",
    "# Set plot title and labels\n",
    "plt.title('Revenue vs. Brent oil price per barrel')\n",
    "plt.xlabel('Total Revenue at Starbucks')\n",
    "plt.ylabel('Brent oil price per barrel')\n",
    "\n",
    "# Add legend\n",
    "plt.legend()\n",
    "\n",
    "# Display the plot\n",
    "plt.show()"
   ]
  },
  {
   "cell_type": "markdown",
   "id": "33419188",
   "metadata": {},
   "source": [
    "### Stats test"
   ]
  },
  {
   "cell_type": "code",
   "execution_count": null,
   "id": "a246efe1",
   "metadata": {},
   "outputs": [],
   "source": [
    "# Run Spearman's rank correlation test\n",
    "correlation, p_value = stats.spearmanr(train.adjusted_revenue_S, train.brent_oil)\n",
    "\n",
    "# Print the test results\n",
    "print(\"Spearman's Rank Correlation Test\")\n",
    "print(\"Correlation Coefficient:\", correlation)\n",
    "print(\"p-value:\", p_value)"
   ]
  },
  {
   "cell_type": "markdown",
   "id": "f8374bc5",
   "metadata": {},
   "source": [
    "- based on the p-value of the spearman's rank correlation test being greater than 0.05, we fail to reject the null hypothesis and can infer that Starbucks revenue is not influenced by brent oil price per barrel.\n",
    "- ***this feature will not be moved into modeling***"
   ]
  },
  {
   "cell_type": "markdown",
   "id": "4f272733",
   "metadata": {},
   "source": [
    "# Employment Cost Index"
   ]
  },
  {
   "cell_type": "markdown",
   "id": "29af6529",
   "metadata": {},
   "source": [
    "Does the Employment Cost Index impact revenue at Starbucks?\n",
    "\n",
    "$H_{0}$ Employment Cost Index does not influence revenue.\n",
    "\n",
    "$H_{a}$ Employment Cost Index does influence revenue."
   ]
  },
  {
   "cell_type": "markdown",
   "id": "118ab426",
   "metadata": {},
   "source": [
    "### Visualize"
   ]
  },
  {
   "cell_type": "code",
   "execution_count": null,
   "id": "4c44eb4a",
   "metadata": {},
   "outputs": [],
   "source": [
    "# Scatter plot to visualize the relationship\n",
    "plt.scatter(train['adjusted_revenue_S'], train['eci'], label='Data')\n",
    "\n",
    "# Fit a linear regression model\n",
    "slope, intercept, r_value, p_value, std_err = stats.linregress(train['adjusted_revenue_S'], train['eci'])\n",
    "line = slope * train['adjusted_revenue_S'] + intercept\n",
    "\n",
    "# Plot the regression line\n",
    "plt.plot(train['adjusted_revenue_S'], line, color='red', label='Regression Line')\n",
    "\n",
    "# Set plot title and labels\n",
    "plt.title('Revenue vs. ECI')\n",
    "plt.xlabel('Total Revenue at Starbucks')\n",
    "plt.ylabel('ECI')\n",
    "\n",
    "# Add legend\n",
    "plt.legend()\n",
    "\n",
    "# Display the plot\n",
    "plt.show()"
   ]
  },
  {
   "cell_type": "markdown",
   "id": "ff390561",
   "metadata": {},
   "source": [
    "### Stats test"
   ]
  },
  {
   "cell_type": "code",
   "execution_count": null,
   "id": "6715b17f",
   "metadata": {},
   "outputs": [],
   "source": [
    "# Run Spearman's rank correlation test\n",
    "correlation, p_value = stats.spearmanr(train.adjusted_revenue_S, train.eci)\n",
    "\n",
    "# Print the test results\n",
    "print(\"Spearman's Rank Correlation Test\")\n",
    "print(\"Correlation Coefficient:\", correlation)\n",
    "print(\"p-value:\", p_value)"
   ]
  },
  {
   "cell_type": "markdown",
   "id": "e2b666d8",
   "metadata": {},
   "source": [
    "- based on the p-value of the spearmans rank correlation test being less than 0.05, we reject the null hypothesis and can infer that Starbucks revenue is influenced by ECI.\n",
    "- ***this feature will be moved into modeling***"
   ]
  },
  {
   "cell_type": "markdown",
   "id": "089a666d",
   "metadata": {},
   "source": [
    "# Gross domestic product implicit price deflator"
   ]
  },
  {
   "cell_type": "markdown",
   "id": "8df9b52c",
   "metadata": {},
   "source": [
    "Does the Gross domestic product implicit price deflator impact revenue at Starbucks?\n",
    "\n",
    "$H_{0}$ Gross domestic product implicit price deflator does not influence revenue.\n",
    "\n",
    "$H_{a}$ Gross domestic product implicit price deflator does influence revenue."
   ]
  },
  {
   "cell_type": "code",
   "execution_count": null,
   "id": "45684444",
   "metadata": {},
   "outputs": [],
   "source": [
    "# Scatter plot to visualize the relationship\n",
    "plt.scatter(train['adjusted_revenue_S'], train['gdp_deflated'], label='Data')\n",
    "\n",
    "# Fit a linear regression model\n",
    "slope, intercept, r_value, p_value, std_err = stats.linregress(train['adjusted_revenue_S'], train['gdp_deflated'])\n",
    "line = slope * train['adjusted_revenue_S'] + intercept\n",
    "\n",
    "# Plot the regression line\n",
    "plt.plot(train['adjusted_revenue_S'], line, color='red', label='Regression Line')\n",
    "\n",
    "# Set plot title and labels\n",
    "plt.title('Revenue vs. GDP deflated')\n",
    "plt.xlabel('Total Revenue at Starbucks')\n",
    "plt.ylabel('GDP deflated')\n",
    "\n",
    "# Add legend\n",
    "plt.legend()\n",
    "\n",
    "# Display the plot\n",
    "plt.show()"
   ]
  },
  {
   "cell_type": "markdown",
   "id": "28219b0e",
   "metadata": {},
   "source": [
    "### Stats test"
   ]
  },
  {
   "cell_type": "code",
   "execution_count": null,
   "id": "5d4f5e1d",
   "metadata": {},
   "outputs": [],
   "source": [
    "# Run Spearman's rank correlation test\n",
    "correlation, p_value = stats.spearmanr(train.adjusted_revenue_S, train.gdp_deflated)\n",
    "\n",
    "# Print the test results\n",
    "print(\"Spearman's Rank Correlation Test\")\n",
    "print(\"Correlation Coefficient:\", correlation)\n",
    "print(\"p-value:\", p_value)"
   ]
  },
  {
   "cell_type": "markdown",
   "id": "b8f32fca",
   "metadata": {},
   "source": [
    "- based on the p-value of the spearmans test being less than 0.05, we reject the null hypothesis and can infer that Starbucks revenue is influenced by the Gross domestic product implicit price deflator.\n",
    "- ***this feature will be used in modeling***."
   ]
  },
  {
   "cell_type": "markdown",
   "id": "4c73ee62",
   "metadata": {},
   "source": [
    "# Consumer Price Index"
   ]
  },
  {
   "cell_type": "markdown",
   "id": "88c207b4",
   "metadata": {},
   "source": [
    "Does the Consumer Price Index impact revenue at Starbucks?\n",
    "\n",
    "$H_{0}$ Consumer Price Index does not influence revenue.\n",
    "\n",
    "$H_{a}$ Consumer Price Index does influence revenue."
   ]
  },
  {
   "cell_type": "code",
   "execution_count": null,
   "id": "15632594",
   "metadata": {},
   "outputs": [],
   "source": [
    "# Scatter plot to visualize the relationship\n",
    "plt.scatter(train['adjusted_revenue_S'], train['cpi_all_items_avg'], label='Data')\n",
    "\n",
    "# Fit a linear regression model\n",
    "slope, intercept, r_value, p_value, std_err = stats.linregress(train['adjusted_revenue_S'], train['cpi_all_items_avg'])\n",
    "line = slope * train['adjusted_revenue_S'] + intercept\n",
    "\n",
    "# Plot the regression line\n",
    "plt.plot(train['adjusted_revenue_S'], line, color='red', label='Regression Line')\n",
    "\n",
    "# Set plot title and labels\n",
    "plt.title('Revenue vs. CPI')\n",
    "plt.xlabel('Total Revenue at Starbucks')\n",
    "plt.ylabel('CPI')\n",
    "\n",
    "# Add legend\n",
    "plt.legend()\n",
    "\n",
    "# Display the plot\n",
    "plt.show()"
   ]
  },
  {
   "cell_type": "markdown",
   "id": "e7c52b2f",
   "metadata": {},
   "source": [
    "### Stats test"
   ]
  },
  {
   "cell_type": "code",
   "execution_count": null,
   "id": "bdc97763",
   "metadata": {},
   "outputs": [],
   "source": [
    "# Run Spearman's rank correlation test\n",
    "correlation, p_value = stats.spearmanr(train.adjusted_revenue_S, train.cpi_all_items_avg)\n",
    "\n",
    "# Print the test results\n",
    "print(\"Spearman's Rank Correlation Test\")\n",
    "print(\"Correlation Coefficient:\", correlation)\n",
    "print(\"p-value:\", p_value)"
   ]
  },
  {
   "cell_type": "markdown",
   "id": "2111add6",
   "metadata": {},
   "source": [
    "- based on the p-value of the spearman's rank correlation test being less than 0.05, we reject the null hypothesis and can infer that Starbucks revenue is influenced by Consumer Price Index.\n",
    "- ***this feature will be used in modeling.***"
   ]
  },
  {
   "cell_type": "markdown",
   "id": "9cd56013",
   "metadata": {},
   "source": [
    "# Government spending"
   ]
  },
  {
   "cell_type": "markdown",
   "id": "61e3e026",
   "metadata": {},
   "source": [
    "Does Government spending impact revenue at Starbucks?\n",
    "\n",
    "$H_{0}$ Government spending does not influence revenue.\n",
    "\n",
    "$H_{a}$ Government spending does influence revenue."
   ]
  },
  {
   "cell_type": "code",
   "execution_count": null,
   "id": "f11d31c3",
   "metadata": {},
   "outputs": [],
   "source": [
    "# Scatter plot to visualize the relationship\n",
    "plt.scatter(train['adjusted_revenue_S'], train['government_spending'], label='Data')\n",
    "\n",
    "# Fit a linear regression model\n",
    "slope, intercept, r_value, p_value, std_err = stats.linregress(train['adjusted_revenue_S'], train['government_spending'])\n",
    "line = slope * train['adjusted_revenue_S'] + intercept\n",
    "\n",
    "# Plot the regression line\n",
    "plt.plot(train['adjusted_revenue_S'], line, color='red', label='Regression Line')\n",
    "\n",
    "# Set plot title and labels\n",
    "plt.title('Revenue vs. Government spending')\n",
    "plt.xlabel('Total Revenue at Starbucks')\n",
    "plt.ylabel('Government spending')\n",
    "\n",
    "# Add legend\n",
    "plt.legend()\n",
    "\n",
    "# Display the plot\n",
    "plt.show()"
   ]
  },
  {
   "cell_type": "markdown",
   "id": "05a6bb0c",
   "metadata": {},
   "source": [
    "### Stats test"
   ]
  },
  {
   "cell_type": "code",
   "execution_count": null,
   "id": "9074155a",
   "metadata": {},
   "outputs": [],
   "source": [
    "# Run Spearman's rank correlation test\n",
    "correlation, p_value = stats.spearmanr(train.adjusted_revenue_S, train.government_spending)\n",
    "\n",
    "# Print the test results\n",
    "print(\"Spearman's Rank Correlation Test\")\n",
    "print(\"Correlation Coefficient:\", correlation)\n",
    "print(\"p-value:\", p_value)"
   ]
  },
  {
   "cell_type": "markdown",
   "id": "31cf4d19",
   "metadata": {},
   "source": [
    "- based on the p-value of the spearman's rank correlation test being less than 0.05, we reject the null hypothesis and can infer that Starbucks revenue is influenced by Government spending.\n",
    "- ***this feature will be used in modeling.***"
   ]
  },
  {
   "cell_type": "markdown",
   "id": "663f4d6e",
   "metadata": {},
   "source": [
    "# Median household income"
   ]
  },
  {
   "cell_type": "markdown",
   "id": "1ac3b7d2",
   "metadata": {},
   "source": [
    "Does Median household income impact revenue at Starbucks?\n",
    "\n",
    "$H_{0}$ Median household income does not influence revenue.\n",
    "\n",
    "$H_{a}$ Median household income does influence revenue.\n",
    "\n"
   ]
  },
  {
   "cell_type": "code",
   "execution_count": null,
   "id": "6fe04fa6",
   "metadata": {},
   "outputs": [],
   "source": [
    "# Scatter plot to visualize the relationship\n",
    "plt.scatter(train['adjusted_revenue_S'], train['median_house_income'], label='Data')\n",
    "\n",
    "# Fit a linear regression model\n",
    "slope, intercept, r_value, p_value, std_err = stats.linregress(train['adjusted_revenue_S'], train['median_house_income'])\n",
    "line = slope * train['adjusted_revenue_S'] + intercept\n",
    "\n",
    "# Plot the regression line\n",
    "plt.plot(train['adjusted_revenue_S'], line, color='red', label='Regression Line')\n",
    "\n",
    "# Set plot title and labels\n",
    "plt.title('Revenue vs. Median household income')\n",
    "plt.xlabel('Total Revenue at Starbucks')\n",
    "plt.ylabel('Median household income')\n",
    "\n",
    "# Add legend\n",
    "plt.legend()\n",
    "\n",
    "# Display the plot\n",
    "plt.show()"
   ]
  },
  {
   "cell_type": "code",
   "execution_count": null,
   "id": "48c4a2a4",
   "metadata": {},
   "outputs": [],
   "source": [
    "# Run Spearman's rank correlation test\n",
    "correlation, p_value = stats.spearmanr(train.adjusted_revenue_S, train.median_house_income)\n",
    "\n",
    "# Print the test results\n",
    "print(\"Spearman's Rank Correlation Test\")\n",
    "print(\"Correlation Coefficient:\", correlation)\n",
    "print(\"p-value:\", p_value)"
   ]
  },
  {
   "cell_type": "code",
   "execution_count": null,
   "id": "72a1c7cd",
   "metadata": {},
   "outputs": [],
   "source": [
    "# Run Spearman's rank correlation test\n",
    "correlation, p_value = stats.spearmanr(train.adjusted_revenue_S, train.ease_of_doing_business)\n",
    "\n",
    "# Print the test results\n",
    "print(\"Spearman's Rank Correlation Test\")\n",
    "print(\"Correlation Coefficient:\", correlation)\n",
    "print(\"p-value:\", p_value)"
   ]
  },
  {
   "cell_type": "markdown",
   "id": "74f1b130",
   "metadata": {},
   "source": [
    "\n",
    "\n",
    "\n",
    "- based on the p-value of the spearmans correlation test being less than 0.05, we reject the null hypothesis and can infer that Starbucks revenue is influenced by Median household income.\n",
    "- ***this feature will be used in modeling***"
   ]
  },
  {
   "cell_type": "markdown",
   "id": "c75ed393",
   "metadata": {},
   "source": [
    "\n",
    "\n",
    "\n",
    "\n",
    "\n",
    "\n",
    "\n",
    "\n",
    "\n",
    "\n",
    "# Federal fund rate"
   ]
  },
  {
   "cell_type": "markdown",
   "id": "9868e9a8",
   "metadata": {},
   "source": [
    "Does the Federal fund rate impact revenue at Ford Motor Company?\n",
    "\n",
    "$H_{0}$ Federal fund rate does not influence revenue.\n",
    "\n",
    "$H_{a}$ Federal fund rate does influence revenue."
   ]
  },
  {
   "cell_type": "code",
   "execution_count": null,
   "id": "73ce7c8f",
   "metadata": {},
   "outputs": [],
   "source": [
    "\n",
    "\n",
    "\n",
    "\n",
    "\n",
    "\n",
    "\n",
    "\n",
    "# Scatter plot to visualize the relationship\n",
    "plt.scatter(train['adjusted_revenue_S'], train['federal_fund_rate'], label='Data')\n",
    "\n",
    "# Fit a linear regression model\n",
    "slope, intercept, r_value, p_value, std_err = stats.linregress(train['adjusted_revenue_S'], train['federal_fund_rate'])\n",
    "line = slope * train['adjusted_revenue_S'] + intercept\n",
    "\n",
    "# Plot the regression line\n",
    "plt.plot(train['adjusted_revenue_S'], line, color='red', label='Regression Line')\n",
    "\n",
    "# Set plot title and labels\n",
    "plt.title('Revenue vs. Federal fund rate')\n",
    "plt.xlabel('Total Revenue at Starbucks')\n",
    "plt.ylabel('Federal fund rate')\n",
    "\n",
    "# Add legend\n",
    "plt.legend()\n",
    "\n",
    "# Display the plot\n",
    "plt.show()"
   ]
  },
  {
   "cell_type": "markdown",
   "id": "2a25c5f6",
   "metadata": {},
   "source": [
    "### Stats test"
   ]
  },
  {
   "cell_type": "code",
   "execution_count": null,
   "id": "3bbcf955",
   "metadata": {},
   "outputs": [],
   "source": [
    "# Run Spearman's rank correlation test\n",
    "correlation, p_value = stats.spearmanr(train.adjusted_revenue_S, train.federal_fund_rate)\n",
    "\n",
    "# Print the test results\n",
    "print(\"Spearman's Rank Correlation Test\")\n",
    "print(\"Correlation Coefficient:\", correlation)\n",
    "print(\"p-value:\", p_value)"
   ]
  },
  {
   "cell_type": "markdown",
   "id": "394d4356",
   "metadata": {},
   "source": [
    "\n",
    "\n",
    "\n",
    "\n",
    "\n",
    "\n",
    "\n",
    "\n",
    "- based on the p-value of the spearman's rank correlation test being greater than 0.05, we fail to reject the null hypothesis and can infer that Starbucks revenue is not influenced by Federal fund rate.\n",
    "- ***this feature will not be used in modeling.***"
   ]
  },
  {
   "cell_type": "markdown",
   "id": "86c62adf",
   "metadata": {},
   "source": [
    "\n",
    "\n",
    "\n",
    "\n",
    "# Dow Jones Industrial Average"
   ]
  },
  {
   "cell_type": "markdown",
   "id": "e8357923",
   "metadata": {},
   "source": [
    "\n",
    "\n",
    "\n",
    "\n",
    "\n",
    "\n",
    "\n",
    "Does the Dow impact revenue at Starbucks?\n",
    "\n",
    "$H_{0}$ The Dow does not influence revenue.\n",
    "\n",
    "$H_{a}$ The Dow does influence revenue."
   ]
  },
  {
   "cell_type": "code",
   "execution_count": null,
   "id": "0ad93118",
   "metadata": {},
   "outputs": [],
   "source": [
    "# Scatter plot to visualize the relationship\n",
    "plt.scatter(train['adjusted_revenue_S'], train['dow'], label='Data')\n",
    "\n",
    "# Fit a linear regression model\n",
    "slope, intercept, r_value, p_value, std_err = stats.linregress(train['adjusted_revenue_S'], train['dow'])\n",
    "line = slope * train['adjusted_revenue_S'] + intercept\n",
    "\n",
    "# Plot the regression line\n",
    "plt.plot(train['adjusted_revenue_S'], line, color='red', label='Regression Line')\n",
    "\n",
    "# Set plot title and labels\n",
    "plt.title('Revenue vs. Dow Jones Industrial Average')\n",
    "plt.xlabel('Total Revenue at Starbucks')\n",
    "plt.ylabel('Dow Jones Industrial Average')\n",
    "\n",
    "# Add legend\n",
    "plt.legend()\n",
    "\n",
    "# Display the plot\n",
    "plt.show()"
   ]
  },
  {
   "cell_type": "markdown",
   "id": "6704082c",
   "metadata": {},
   "source": [
    "\n",
    "\n",
    "\n",
    "\n",
    "\n",
    "\n",
    "\n",
    "\n",
    "\n",
    "\n",
    "\n",
    "\n",
    "\n",
    "\n",
    "### Stats test"
   ]
  },
  {
   "cell_type": "code",
   "execution_count": null,
   "id": "04e6c129",
   "metadata": {},
   "outputs": [],
   "source": [
    "\n",
    "# Run Spearman's rank correlation test\n",
    "correlation, p_value = stats.spearmanr(train.adjusted_revenue_S, train.dow)\n",
    "\n",
    "# Print the test results\n",
    "print(\"Spearman's Rank Correlation Test\")\n",
    "print(\"Correlation Coefficient:\", correlation)\n",
    "print(\"p-value:\", p_value)"
   ]
  },
  {
   "cell_type": "markdown",
   "id": "a28bd45b",
   "metadata": {},
   "source": [
    "\n",
    "- based on the p-value of the spearmans correlation test being less than 0.05, we reject the null hypothesis and can infer that Starbucks revenue is influenced by the Dow.\n",
    "- ***this feature will not be used in modeling***"
   ]
  },
  {
   "cell_type": "markdown",
   "id": "55a3105f",
   "metadata": {},
   "source": [
    "\n",
    "# S&P 500 Average"
   ]
  },
  {
   "cell_type": "markdown",
   "id": "3b4a8380",
   "metadata": {},
   "source": [
    "\n",
    "\n",
    "\n",
    "\n",
    "\n",
    "\n",
    "\n",
    "\n",
    "Does the S&P 500 Average impact revenue at Starbucks?\n",
    "\n",
    "$H_{0}$ S&P 500 Average does not influence revenue.\n",
    "\n",
    "$H_{a}$ S&P 500 Average does influence revenue."
   ]
  },
  {
   "cell_type": "code",
   "execution_count": null,
   "id": "d54e3449",
   "metadata": {
    "scrolled": false
   },
   "outputs": [],
   "source": [
    "# Scatter plot to visualize the relationship\n",
    "plt.scatter(train['adjusted_revenue_S'], train['s_and_p'], label='Data')\n",
    "\n",
    "# Fit a linear regression model\n",
    "slope, intercept, r_value, p_value, std_err = stats.linregress(train['adjusted_revenue_S'], train['s_and_p'])\n",
    "line = slope * train['adjusted_revenue_S'] + intercept\n",
    "\n",
    "# Plot the regression line\n",
    "plt.plot(train['adjusted_revenue_S'], line, color='red', label='Regression Line')\n",
    "\n",
    "# Set plot title and labels\n",
    "plt.title('Revenue vs. S&P 500')\n",
    "plt.xlabel('Total Revenue at Starbucks')\n",
    "plt.ylabel('S&P 500')\n",
    "\n",
    "# Add legend\n",
    "plt.legend()\n",
    "\n",
    "# Display the plot\n",
    "plt.show()"
   ]
  },
  {
   "cell_type": "markdown",
   "id": "11387489",
   "metadata": {},
   "source": [
    "### Stats test"
   ]
  },
  {
   "cell_type": "code",
   "execution_count": null,
   "id": "b3a76755",
   "metadata": {},
   "outputs": [],
   "source": [
    "train.columns"
   ]
  },
  {
   "cell_type": "code",
   "execution_count": null,
   "id": "97d522aa",
   "metadata": {},
   "outputs": [],
   "source": [
    "['population',\n",
    "       'median_house_income', 'unemp_rate',\n",
    "       'home_ownership_rate', 'government_spending',\n",
    "       'gdp_deflated', 'violent_crime_rate',\n",
    "       'cpi_all_items_avg', 'avg_precipitation',\n",
    "       'palmer_drought_index', 'eci', 'dow', 's_and_p', 'gas_perc_change',\n",
    "       'prime', 'gini', 'Man_new_order', 'hdi', 'construction_res', 'cli',\n",
    "       'auto_loan', 'velocity_of_money', 'loans_and_leases', 'wti', 'soy',\n",
    "       'brent_oil', 'case_shiller_index', 'number_of_disaster',\n",
    "       'consumer_confidence_index', 'business_confidence_index',\n",
    "       'c_e_s_housing', 'c_e_s_health', 'c_e_s_entertainment',\n",
    "       'ease_of_doing_business', 'wars_started']"
   ]
  },
  {
   "cell_type": "code",
   "execution_count": null,
   "id": "2c355fc7",
   "metadata": {},
   "outputs": [],
   "source": [
    "# Run Spearman's rank correlation test\n",
    "correlation, p_value = stats.spearmanr(train.adjusted_revenue_S, train.avg_precipitation)\n",
    "\n",
    "# Print the test results\n",
    "print(\"Spearman's Rank Correlation Test\")\n",
    "print(\"Correlation Coefficient:\", correlation)\n",
    "print(\"p-value:\", p_value)"
   ]
  },
  {
   "cell_type": "markdown",
   "id": "62dad046",
   "metadata": {},
   "source": [
    "- based on the p-value of the spearman's rank correlation test being less than 0.05, we reject the null hypothesis and can infer that Starbucks revenue is not influenced by the S&P 500.\n",
    "- ***we will not push this feature into our model***"
   ]
  },
  {
   "cell_type": "markdown",
   "id": "e7defa50",
   "metadata": {},
   "source": [
    "# Gas price change percentage"
   ]
  },
  {
   "cell_type": "markdown",
   "id": "1e22589a",
   "metadata": {},
   "source": [
    "Does percentage gas price change impact revenue at Starbucks?\n",
    "\n",
    "$H_{0}$ Percentage gas price change does not influence revenue.\n",
    "\n",
    "$H_{a}$ Percentage gas price change does influence revenue."
   ]
  },
  {
   "cell_type": "code",
   "execution_count": null,
   "id": "8feaa20d",
   "metadata": {},
   "outputs": [],
   "source": [
    "# Scatter plot to visualize the relationship\n",
    "plt.scatter(train['adjusted_revenue_S'], train['gas_perc_change'], label='Data')\n",
    "\n",
    "# Fit a linear regression model\n",
    "slope, intercept, r_value, p_value, std_err = stats.linregress(train['adjusted_revenue_S'], train['gas_perc_change'])\n",
    "line = slope * train['adjusted_revenue_S'] + intercept\n",
    "\n",
    "# Plot the regression line\n",
    "plt.plot(train['adjusted_revenue_S'], line, color='red', label='Regression Line')\n",
    "\n",
    "# Set plot title and labels\n",
    "plt.title('Revenue vs. Percentage gas price change')\n",
    "plt.xlabel('Total Revenue at Starbucks')\n",
    "plt.ylabel('Percentage gas price change')\n",
    "\n",
    "# Add legend\n",
    "plt.legend()\n",
    "\n",
    "# Display the plot\n",
    "plt.show()"
   ]
  },
  {
   "cell_type": "markdown",
   "id": "6490e090",
   "metadata": {},
   "source": [
    "### Stats test"
   ]
  },
  {
   "cell_type": "code",
   "execution_count": null,
   "id": "370eb800",
   "metadata": {},
   "outputs": [],
   "source": [
    "# Run Spearman's rank correlation test\n",
    "correlation, p_value = stats.spearmanr(train.adjusted_revenue_S, train.gas_perc_change)\n",
    "\n",
    "# Print the test results\n",
    "print(\"Spearman's Rank Correlation Test\")\n",
    "print(\"Correlation Coefficient:\", correlation)\n",
    "print(\"p-value:\", p_value)"
   ]
  },
  {
   "cell_type": "markdown",
   "id": "f587f1cc",
   "metadata": {},
   "source": [
    "- based on the p-value of the spearman's rank correlation test being greater than 0.05, we fail to reject the null hypothesis and can infer that Starbucks revenue is not influenced by percentage gas price change.\n",
    "- ***we will not push this feature into our model***"
   ]
  },
  {
   "cell_type": "markdown",
   "id": "06363c8c",
   "metadata": {},
   "source": [
    "# Prime bank loan rate"
   ]
  },
  {
   "cell_type": "markdown",
   "id": "962931d4",
   "metadata": {},
   "source": [
    "Does the Prime bank loan rate impact revenue at Starbucks?\n",
    "\n",
    "$H_{0}$ Prime bank loan rate does not influence revenue.\n",
    "\n",
    "$H_{a}$ Prime bank loan rate does influence revenue."
   ]
  },
  {
   "cell_type": "code",
   "execution_count": null,
   "id": "f0f63818",
   "metadata": {},
   "outputs": [],
   "source": [
    "# Scatter plot to visualize the relationship\n",
    "plt.scatter(train['adjusted_revenue_S'], train['prime'], label='Data')\n",
    "\n",
    "# Fit a linear regression model\n",
    "slope, intercept, r_value, p_value, std_err = stats.linregress(train['adjusted_revenue_S'], train['prime'])\n",
    "line = slope * train['adjusted_revenue_S'] + intercept\n",
    "\n",
    "# Plot the regression line\n",
    "plt.plot(train['adjusted_revenue_S'], line, color='red', label='Regression Line')\n",
    "\n",
    "# Set plot title and labels\n",
    "plt.title('Revenue vs. Prime bank loan rate')\n",
    "plt.xlabel('Total Revenue at Starbucks')\n",
    "plt.ylabel('Prime bank loan rate')\n",
    "\n",
    "# Add legend\n",
    "plt.legend()\n",
    "\n",
    "# Display the plot\n",
    "plt.show()"
   ]
  },
  {
   "cell_type": "markdown",
   "id": "a957435d",
   "metadata": {},
   "source": [
    "### Stats test"
   ]
  },
  {
   "cell_type": "code",
   "execution_count": null,
   "id": "9f63474d",
   "metadata": {},
   "outputs": [],
   "source": [
    "# Run Spearman's rank correlation test\n",
    "correlation, p_value = stats.spearmanr(train.adjusted_revenue_S, train.prime)\n",
    "\n",
    "# Print the test results\n",
    "print(\"Spearman's Rank Correlation Test\")\n",
    "print(\"Correlation Coefficient:\", correlation)\n",
    "print(\"p-value:\", p_value)"
   ]
  },
  {
   "cell_type": "markdown",
   "id": "5f7bcdcc",
   "metadata": {},
   "source": [
    "- based on the p-value of the spearman's rank correlation test being greater than 0.05, we fail to reject the null hypothesis and can infer that Starbucks revenue is not influenced by the Prime bank loan rate.\n",
    "- ***we will not push this feature into our model***"
   ]
  },
  {
   "cell_type": "markdown",
   "id": "1bc71738",
   "metadata": {},
   "source": [
    "# Gini index"
   ]
  },
  {
   "cell_type": "markdown",
   "id": "da63a74d",
   "metadata": {},
   "source": [
    "Does the Gini index impact revenue at Starbucks?\n",
    "\n",
    "$H_{0}$ Gini index does not influence revenue.\n",
    "\n",
    "$H_{a}$ Gini index does influence revenue."
   ]
  },
  {
   "cell_type": "code",
   "execution_count": null,
   "id": "2ab07d0b",
   "metadata": {},
   "outputs": [],
   "source": [
    "# Scatter plot to visualize the relationship\n",
    "plt.scatter(train['adjusted_revenue_S'], train['gini'], label='Data')\n",
    "\n",
    "# Fit a linear regression model\n",
    "slope, intercept, r_value, p_value, std_err = stats.linregress(train['adjusted_revenue_S'], train['gini'])\n",
    "line = slope * train['adjusted_revenue_S'] + intercept\n",
    "\n",
    "# Plot the regression line\n",
    "plt.plot(train['adjusted_revenue_S'], line, color='red', label='Regression Line')\n",
    "\n",
    "# Set plot title and labels\n",
    "plt.title('Revenue vs. Gini index')\n",
    "plt.xlabel('Total Revenue at Starbucks')\n",
    "plt.ylabel('Gini index')\n",
    "\n",
    "# Add legend\n",
    "plt.legend()\n",
    "\n",
    "# Display the plot\n",
    "plt.show()"
   ]
  },
  {
   "cell_type": "markdown",
   "id": "7717fb60",
   "metadata": {},
   "source": [
    "### Stats test"
   ]
  },
  {
   "cell_type": "code",
   "execution_count": null,
   "id": "5bdd9aab",
   "metadata": {},
   "outputs": [],
   "source": [
    "# Run Spearman's rank correlation test\n",
    "correlation, p_value = stats.spearmanr(train.adjusted_revenue_S, train.gini)\n",
    "\n",
    "# Print the test results\n",
    "print(\"Spearman's Rank Correlation Test\")\n",
    "print(\"Correlation Coefficient:\", correlation)\n",
    "print(\"p-value:\", p_value)"
   ]
  },
  {
   "cell_type": "markdown",
   "id": "4abbfc08",
   "metadata": {},
   "source": [
    "- based on the p-value of the spearman's rank correlation test being greater than 0.05, we fail to reject the null hypothesis and can infer that Starbucks revenue is influenced by the Gini index.\n",
    "- ***we will not push this feature into our model***"
   ]
  },
  {
   "cell_type": "markdown",
   "id": "b92d7917",
   "metadata": {},
   "source": [
    "# Manufacturer new orders"
   ]
  },
  {
   "cell_type": "markdown",
   "id": "c77701ae",
   "metadata": {},
   "source": [
    "Do Manufacturer new orders impact revenue at Starbucks?\n",
    "\n",
    "$H_{0}$ Manufacturer new orders does not influence revenue.\n",
    "\n",
    "$H_{a}$ Manufacturer new orders influence revenue.\n",
    "\n"
   ]
  },
  {
   "cell_type": "code",
   "execution_count": null,
   "id": "ae3c080c",
   "metadata": {},
   "outputs": [],
   "source": [
    "# Scatter plot to visualize the relationship\n",
    "plt.scatter(train['adjusted_revenue_S'], train['Man_new_order'], label='Data')\n",
    "\n",
    "# Fit a linear regression model\n",
    "slope, intercept, r_value, p_value, std_err = stats.linregress(train['adjusted_revenue_S'], train['Man_new_order'])\n",
    "line = slope * train['adjusted_revenue_S'] + intercept\n",
    "\n",
    "# Plot the regression line\n",
    "plt.plot(train['adjusted_revenue_S'], line, color='red', label='Regression Line')\n",
    "\n",
    "# Set plot title and labels\n",
    "plt.title('Revenue vs. Manufacturer new orders')\n",
    "plt.xlabel('Total Revenue at Starbucks')\n",
    "plt.ylabel('Manufacturer new orders')\n",
    "\n",
    "# Add legend\n",
    "plt.legend()\n",
    "\n",
    "# Display the plot\n",
    "plt.show()"
   ]
  },
  {
   "cell_type": "markdown",
   "id": "852eb384",
   "metadata": {},
   "source": [
    "### Stats test"
   ]
  },
  {
   "cell_type": "code",
   "execution_count": null,
   "id": "2208d120",
   "metadata": {},
   "outputs": [],
   "source": [
    "# Run Spearman's rank correlation test\n",
    "correlation, p_value = stats.spearmanr(train.adjusted_revenue_S, train.Man_new_order)\n",
    "\n",
    "# Print the test results\n",
    "print(\"Spearman's Rank Correlation Test\")\n",
    "print(\"Correlation Coefficient:\", correlation)\n",
    "print(\"p-value:\", p_value)"
   ]
  },
  {
   "cell_type": "markdown",
   "id": "b704182b",
   "metadata": {},
   "source": [
    "- based on the p-value of the spearman's rank correlation test being less than 0.05, we reject the null hypothesis and can infer that Starbucks revenue is influenced by manufacturer new orders.\n",
    "- ***we will push this feature into our model***"
   ]
  },
  {
   "cell_type": "markdown",
   "id": "38309e2b",
   "metadata": {},
   "source": [
    "# Human development index"
   ]
  },
  {
   "cell_type": "markdown",
   "id": "6f17889a",
   "metadata": {},
   "source": [
    "Does the Human development index impact revenue at Starbucks?\n",
    "\n",
    "$H_{0}$ Human development index does not influence revenue.\n",
    "\n",
    "$H_{a}$ Human development index does influence revenue."
   ]
  },
  {
   "cell_type": "code",
   "execution_count": null,
   "id": "56eaf05d",
   "metadata": {},
   "outputs": [],
   "source": [
    "# Scatter plot to visualize the relationship\n",
    "plt.scatter(train['adjusted_revenue_S'], train['hdi'], label='Data')\n",
    "\n",
    "# Fit a linear regression model\n",
    "slope, intercept, r_value, p_value, std_err = stats.linregress(train['adjusted_revenue_S'], train['hdi'])\n",
    "line = slope * train['adjusted_revenue_S'] + intercept\n",
    "\n",
    "# Plot the regression line\n",
    "plt.plot(train['adjusted_revenue_S'], line, color='red', label='Regression Line')\n",
    "\n",
    "# Set plot title and labels\n",
    "plt.title('Revenue vs. Human development index')\n",
    "plt.xlabel('Total Revenue at Starbucks')\n",
    "plt.ylabel('Human development index')\n",
    "\n",
    "# Add legend\n",
    "plt.legend()\n",
    "\n",
    "# Display the plot\n",
    "plt.show()"
   ]
  },
  {
   "cell_type": "markdown",
   "id": "8e17de3b",
   "metadata": {},
   "source": [
    "### Stats test"
   ]
  },
  {
   "cell_type": "code",
   "execution_count": null,
   "id": "5d01798b",
   "metadata": {},
   "outputs": [],
   "source": [
    "# Run Spearman's rank correlation test\n",
    "correlation, p_value = stats.spearmanr(train.adjusted_revenue_S, train.hdi)\n",
    "\n",
    "# Print the test results\n",
    "print(\"Spearman's Rank Correlation Test\")\n",
    "print(\"Correlation Coefficient:\", correlation)\n",
    "print(\"p-value:\", p_value)"
   ]
  },
  {
   "cell_type": "markdown",
   "id": "4b10d84c",
   "metadata": {},
   "source": [
    "- based on the p-value of the spearman's rank correlation test being less than 0.05, we reject the null hypothesis and can infer that Starbucks revenue is influenced by the human development index.\n",
    "- ***we will push this feature into our model***"
   ]
  },
  {
   "cell_type": "markdown",
   "id": "02a8ccf1",
   "metadata": {},
   "source": [
    "# Residential Construction"
   ]
  },
  {
   "cell_type": "markdown",
   "id": "c842f613",
   "metadata": {},
   "source": [
    "Does residential construction impact revenue at Starbucks?\n",
    "\n",
    "$H_{0}$ Residential construction does not influence revenue.\n",
    "\n",
    "$H_{a}$ Residential construction does influence revenue."
   ]
  },
  {
   "cell_type": "code",
   "execution_count": null,
   "id": "22e5e8fa",
   "metadata": {},
   "outputs": [],
   "source": [
    "# Scatter plot to visualize the relationship\n",
    "plt.scatter(train['adjusted_revenue_S'], train['construction_res'], label='Data')\n",
    "\n",
    "# Fit a linear regression model\n",
    "slope, intercept, r_value, p_value, std_err = stats.linregress(train['adjusted_revenue_S'], train['construction_res'])\n",
    "line = slope * train['adjusted_revenue_S'] + intercept\n",
    "\n",
    "# Plot the regression line\n",
    "plt.plot(train['adjusted_revenue_S'], line, color='red', label='Regression Line')\n",
    "\n",
    "# Set plot title and labels\n",
    "plt.title('Revenue vs. Residential construction')\n",
    "plt.xlabel('Total Revenue at Starbucks')\n",
    "plt.ylabel('Residential construction')\n",
    "\n",
    "# Add legend\n",
    "plt.legend()\n",
    "\n",
    "# Display the plot\n",
    "plt.show()"
   ]
  },
  {
   "cell_type": "markdown",
   "id": "d4dca3c0",
   "metadata": {},
   "source": [
    "### Stats test"
   ]
  },
  {
   "cell_type": "code",
   "execution_count": null,
   "id": "e1101b5b",
   "metadata": {},
   "outputs": [],
   "source": [
    "# Run Spearman's rank correlation test\n",
    "correlation, p_value = stats.spearmanr(train.adjusted_revenue_S, train.construction_res)\n",
    "\n",
    "# Print the test results\n",
    "print(\"Spearman's Rank Correlation Test\")\n",
    "print(\"Correlation Coefficient:\", correlation)\n",
    "print(\"p-value:\", p_value)"
   ]
  },
  {
   "cell_type": "markdown",
   "id": "aa83077b",
   "metadata": {},
   "source": [
    "- based on the p-value of the spearman's rank correlation test being greater than 0.05, we fail to reject the null hypothesis and can infer that Starbucks revenue is not influenced by residential constuction.\n",
    "- ***we will not push this feature into our model***"
   ]
  },
  {
   "cell_type": "markdown",
   "id": "733adb93",
   "metadata": {},
   "source": [
    "# Composite leading indicator"
   ]
  },
  {
   "cell_type": "markdown",
   "id": "2454a0e2",
   "metadata": {},
   "source": [
    "Does the composite leading indicator impact revenue at Starbucks?\n",
    "\n",
    "$H_{0}$ Composite leading indicator does not influence revenue.\n",
    "\n",
    "$H_{a}$ Composite leading indicator does influence revenue.\n"
   ]
  },
  {
   "cell_type": "code",
   "execution_count": null,
   "id": "aa53d08c",
   "metadata": {},
   "outputs": [],
   "source": [
    "# Scatter plot to visualize the relationship\n",
    "plt.scatter(train['adjusted_revenue_S'], train['cli'], label='Data')\n",
    "\n",
    "# Fit a linear regression model\n",
    "slope, intercept, r_value, p_value, std_err = stats.linregress(train['adjusted_revenue_S'], train['cli'])\n",
    "line = slope * train['adjusted_revenue_S'] + intercept\n",
    "\n",
    "# Plot the regression line\n",
    "plt.plot(train['adjusted_revenue_S'], line, color='red', label='Regression Line')\n",
    "\n",
    "# Set plot title and labels\n",
    "plt.title('Revenue vs. Composite leading indicator')\n",
    "plt.xlabel('Total Revenue at Starbucks')\n",
    "plt.ylabel('Composite leading indicator')\n",
    "\n",
    "# Add legend\n",
    "plt.legend()\n",
    "\n",
    "# Display the plot\n",
    "plt.show()"
   ]
  },
  {
   "cell_type": "markdown",
   "id": "8b630db3",
   "metadata": {},
   "source": [
    "### Stats test"
   ]
  },
  {
   "cell_type": "code",
   "execution_count": null,
   "id": "62d117e7",
   "metadata": {},
   "outputs": [],
   "source": [
    "# Run Spearman's rank correlation test\n",
    "correlation, p_value = stats.spearmanr(train.adjusted_revenue_S, train.cli)\n",
    "\n",
    "# Print the test results\n",
    "print(\"Spearman's Rank Correlation Test\")\n",
    "print(\"Correlation Coefficient:\", correlation)\n",
    "print(\"p-value:\", p_value)"
   ]
  },
  {
   "cell_type": "markdown",
   "id": "7d6b3aa3",
   "metadata": {},
   "source": [
    "- based on the p-value of the spearman's rank correlation test being greater than 0.05, we fail to reject the null hypothesis and can infer that Starbucks revenue is not influenced by the composite leading indicator.\n",
    "- ***we will not push this feature into our model***"
   ]
  },
  {
   "cell_type": "markdown",
   "id": "75b6df37",
   "metadata": {},
   "source": [
    "# Auto loan rate"
   ]
  },
  {
   "cell_type": "markdown",
   "id": "06806035",
   "metadata": {},
   "source": [
    "Do auto loan rates impact revenue at Starbucks?\n",
    "\n",
    "$H_{0}$ Auto loan rates do not influence revenue.\n",
    "\n",
    "$H_{a}$ Auto loan rates do influence revenue."
   ]
  },
  {
   "cell_type": "code",
   "execution_count": null,
   "id": "bc0ecc5c",
   "metadata": {},
   "outputs": [],
   "source": [
    "# Scatter plot to visualize the relationship\n",
    "plt.scatter(train['adjusted_revenue_S'], train['auto_loan'], label='Data')\n",
    "\n",
    "# Fit a linear regression model\n",
    "slope, intercept, r_value, p_value, std_err = stats.linregress(train['adjusted_revenue_S'], train['auto_loan'])\n",
    "line = slope * train['adjusted_revenue_S'] + intercept\n",
    "\n",
    "# Plot the regression line\n",
    "plt.plot(train['adjusted_revenue_S'], line, color='red', label='Regression Line')\n",
    "\n",
    "# Set plot title and labels\n",
    "plt.title('Revenue vs. Auto loan rates')\n",
    "plt.xlabel('Total Revenue at Starbucks')\n",
    "plt.ylabel('Auto loan rates')\n",
    "\n",
    "# Add legend\n",
    "plt.legend()\n",
    "\n",
    "# Display the plot\n",
    "plt.show()"
   ]
  },
  {
   "cell_type": "markdown",
   "id": "214361d5",
   "metadata": {},
   "source": [
    "### Stats test"
   ]
  },
  {
   "cell_type": "code",
   "execution_count": null,
   "id": "f72f24e6",
   "metadata": {},
   "outputs": [],
   "source": [
    "# Run Spearman's rank correlation test\n",
    "correlation, p_value = stats.spearmanr(train.adjusted_revenue_S, train.auto_loan)\n",
    "\n",
    "# Print the test results\n",
    "print(\"Spearman's Rank Correlation Test\")\n",
    "print(\"Correlation Coefficient:\", correlation)\n",
    "print(\"p-value:\", p_value)"
   ]
  },
  {
   "cell_type": "markdown",
   "id": "ef2fa264",
   "metadata": {},
   "source": [
    "- based on the p-value of the spearman's rank correlation test being less than 0.05, we reject the null hypothesis and can infer that Ford Motor Company revenue is influenced by auto loan rates.\n",
    "- ***we will push this feature into our model***"
   ]
  },
  {
   "cell_type": "markdown",
   "id": "1909eb79",
   "metadata": {},
   "source": [
    "# Velocity of money"
   ]
  },
  {
   "cell_type": "markdown",
   "id": "79b2ef88",
   "metadata": {},
   "source": [
    "Does velocity of money impact revenue at Starbucks?\n",
    "\n",
    "$H_{0}$ Velocity of money does not influence revenue.\n",
    "\n",
    "$H_{a}$ Velocity of money does influence revenue."
   ]
  },
  {
   "cell_type": "code",
   "execution_count": null,
   "id": "791e4e59",
   "metadata": {},
   "outputs": [],
   "source": [
    "# Scatter plot to visualize the relationship\n",
    "plt.scatter(train['adjusted_revenue_S'], train['velocity_of_money'], label='Data')\n",
    "\n",
    "# Fit a linear regression model\n",
    "slope, intercept, r_value, p_value, std_err = stats.linregress(train['adjusted_revenue_S'], train['velocity_of_money'])\n",
    "line = slope * train['adjusted_revenue_S'] + intercept\n",
    "\n",
    "# Plot the regression line\n",
    "plt.plot(train['adjusted_revenue_S'], line, color='red', label='Regression Line')\n",
    "\n",
    "# Set plot title and labels\n",
    "plt.title('Revenue vs. Velocity of money')\n",
    "plt.xlabel('Total Revenue at Starbucks')\n",
    "plt.ylabel('Velocity of money')\n",
    "\n",
    "# Add legend\n",
    "plt.legend()\n",
    "\n",
    "# Display the plot\n",
    "plt.show()"
   ]
  },
  {
   "cell_type": "markdown",
   "id": "e1ede83f",
   "metadata": {},
   "source": [
    "### Stats test"
   ]
  },
  {
   "cell_type": "code",
   "execution_count": null,
   "id": "ba20b70b",
   "metadata": {},
   "outputs": [],
   "source": [
    "# Run Spearman's rank correlation test\n",
    "correlation, p_value = stats.spearmanr(train.adjusted_revenue_S, train.velocity_of_money)\n",
    "\n",
    "# Print the test results\n",
    "print(\"Spearman's Rank Correlation Test\")\n",
    "print(\"Correlation Coefficient:\", correlation)\n",
    "print(\"p-value:\", p_value)"
   ]
  },
  {
   "cell_type": "markdown",
   "id": "df978425",
   "metadata": {},
   "source": [
    "- based on the p-value of the spearman's rank correlation test being less than 0.05, we reject the null hypothesis and can infer that Starbucks revenue is influenced by the velocity of money.\n",
    "- ***we will push this feature into our model***"
   ]
  },
  {
   "cell_type": "markdown",
   "id": "f3029f46",
   "metadata": {},
   "source": [
    "# Loans and leases other than vehicle and real estate"
   ]
  },
  {
   "cell_type": "markdown",
   "id": "f5ea6cd0",
   "metadata": {},
   "source": [
    "Do loans and leases other than vehicle and real estate impact revenue at Starbucks?\n",
    "\n",
    "$H_{0}$ Loans and leases other than vehicle and real estate does not influence revenue.\n",
    "\n",
    "$H_{a}$ Loans and leases other than vehicle and real estate does influence revenue."
   ]
  },
  {
   "cell_type": "code",
   "execution_count": null,
   "id": "769eb00c",
   "metadata": {},
   "outputs": [],
   "source": [
    "# Scatter plot to visualize the relationship\n",
    "plt.scatter(train['adjusted_revenue_S'], train['loans_and_leases'], label='Data')\n",
    "\n",
    "# Fit a linear regression model\n",
    "slope, intercept, r_value, p_value, std_err = stats.linregress(train['adjusted_revenue_S'], train['loans_and_leases'])\n",
    "line = slope * train['adjusted_revenue_S'] + intercept\n",
    "\n",
    "# Plot the regression line\n",
    "plt.plot(train['adjusted_revenue_S'], line, color='red', label='Regression Line')\n",
    "\n",
    "# Set plot title and labels\n",
    "plt.title('Revenue vs. Loans and leases other than vehicle and real estate')\n",
    "plt.xlabel('Total Revenue at Starbucks')\n",
    "plt.ylabel('Loans and leases other than vehicle and real estate')\n",
    "\n",
    "# Add legend\n",
    "plt.legend()\n",
    "\n",
    "# Display the plot\n",
    "plt.show()"
   ]
  },
  {
   "cell_type": "markdown",
   "id": "759f861a",
   "metadata": {},
   "source": [
    "### Stats test"
   ]
  },
  {
   "cell_type": "code",
   "execution_count": null,
   "id": "ca257322",
   "metadata": {},
   "outputs": [],
   "source": [
    "# Run Spearman's rank correlation test\n",
    "correlation, p_value = stats.spearmanr(train.adjusted_revenue_S, train.loans_and_leases)\n",
    "\n",
    "# Print the test results\n",
    "print(\"Spearman's Rank Correlation Test\")\n",
    "print(\"Correlation Coefficient:\", correlation)\n",
    "print(\"p-value:\", p_value)"
   ]
  },
  {
   "cell_type": "markdown",
   "id": "c7651a75",
   "metadata": {},
   "source": [
    "- based on the p-value of the spearman's rank correlation test being greater than 0.05, we fail to reject the null hypothesis and can infer that Starbucks revenue is not influenced by loans and leases other than vehicle and real estate.\n",
    "- ***we will not push this feature into our model***"
   ]
  },
  {
   "cell_type": "markdown",
   "id": "ea33a26a",
   "metadata": {},
   "source": [
    "# West Texas intermediate oil"
   ]
  },
  {
   "cell_type": "markdown",
   "id": "4860ef36",
   "metadata": {},
   "source": [
    "Does West Texas intermediate oil impact revenue at Starbucks?\n",
    "\n",
    "$H_{0}$ West Texas intermediate oil does not influence revenue.\n",
    "\n",
    "$H_{a}$ West Texas intermediate oil does influence revenue."
   ]
  },
  {
   "cell_type": "code",
   "execution_count": null,
   "id": "6c28a92f",
   "metadata": {},
   "outputs": [],
   "source": [
    "# Scatter plot to visualize the relationship\n",
    "plt.scatter(train['adjusted_revenue_S'], train['wti'], label='Data')\n",
    "\n",
    "# Fit a linear regression model\n",
    "slope, intercept, r_value, p_value, std_err = stats.linregress(train['adjusted_revenue_S'], train['wti'])\n",
    "line = slope * train['adjusted_revenue_S'] + intercept\n",
    "\n",
    "# Plot the regression line\n",
    "plt.plot(train['adjusted_revenue_S'], line, color='red', label='Regression Line')\n",
    "\n",
    "# Set plot title and labels\n",
    "plt.title('Revenue vs. West Texas intermediate oil')\n",
    "plt.xlabel('Total Revenue at Starbucks')\n",
    "plt.ylabel('West Texas intermediate oil')\n",
    "\n",
    "# Add legend\n",
    "plt.legend()\n",
    "\n",
    "# Display the plot\n",
    "plt.show()"
   ]
  },
  {
   "cell_type": "markdown",
   "id": "395fcf6d",
   "metadata": {},
   "source": [
    "### Stats test"
   ]
  },
  {
   "cell_type": "code",
   "execution_count": null,
   "id": "a437ebc9",
   "metadata": {},
   "outputs": [],
   "source": [
    "# Run Spearman's rank correlation test\n",
    "correlation, p_value = stats.spearmanr(train.adjusted_revenue_S, train.wti)\n",
    "\n",
    "# Print the test results\n",
    "print(\"Spearman's Rank Correlation Test\")\n",
    "print(\"Correlation Coefficient:\", correlation)\n",
    "print(\"p-value:\", p_value)"
   ]
  },
  {
   "cell_type": "markdown",
   "id": "13125e20",
   "metadata": {},
   "source": [
    "- based on the p-value of the spearman's rank correlation test being less than 0.05, we reject the null hypothesis and can infer that Starbucks revenue is influenced by West Texas intermediate oil.\n",
    "- ***we will push this feature into our model***"
   ]
  },
  {
   "cell_type": "markdown",
   "id": "83ae3f1c",
   "metadata": {},
   "source": [
    "# Soy bean prices"
   ]
  },
  {
   "cell_type": "markdown",
   "id": "ffb4c4f4",
   "metadata": {},
   "source": [
    "Do soy bean prices impact revenue at Starbucks?\n",
    "\n",
    "$H_{0}$ Soy bean prices do not influence revenue.\n",
    "\n",
    "$H_{a}$ Soy bean prices do influence revenue."
   ]
  },
  {
   "cell_type": "code",
   "execution_count": null,
   "id": "b1b50faa",
   "metadata": {},
   "outputs": [],
   "source": [
    "# Scatter plot to visualize the relationship\n",
    "plt.scatter(train['adjusted_revenue_S'], train['soy'], label='Data')\n",
    "\n",
    "# Fit a linear regression model\n",
    "slope, intercept, r_value, p_value, std_err = stats.linregress(train['adjusted_revenue_S'], train['soy'])\n",
    "line = slope * train['adjusted_revenue_S'] + intercept\n",
    "\n",
    "# Plot the regression line\n",
    "plt.plot(train['adjusted_revenue_S'], line, color='red', label='Regression Line')\n",
    "\n",
    "# Set plot title and labels\n",
    "plt.title('Revenue vs. Soy bean prices')\n",
    "plt.xlabel('Total Revenue at Starbucks')\n",
    "plt.ylabel('Soy bean prices')\n",
    "\n",
    "# Add legend\n",
    "plt.legend()\n",
    "\n",
    "# Display the plot\n",
    "plt.show()"
   ]
  },
  {
   "cell_type": "markdown",
   "id": "7af7ae5e",
   "metadata": {},
   "source": [
    "### Stats test"
   ]
  },
  {
   "cell_type": "code",
   "execution_count": null,
   "id": "23d43f89",
   "metadata": {},
   "outputs": [],
   "source": [
    "# Run Spearman's rank correlation test\n",
    "correlation, p_value = stats.spearmanr(train.adjusted_revenue_S, train.soy)\n",
    "\n",
    "# Print the test results\n",
    "print(\"Spearman's Rank Correlation Test\")\n",
    "print(\"Correlation Coefficient:\", correlation)\n",
    "print(\"p-value:\", p_value)"
   ]
  },
  {
   "cell_type": "markdown",
   "id": "eb902ef5",
   "metadata": {},
   "source": [
    "- based on the p-value of the spearman's rank correlation test being greater than 0.05, we fail to reject the null hypothesis and can infer that Starbucks revenue is not influenced by soy bean prices.\n",
    "- ***we will not push this feature into our model***"
   ]
  },
  {
   "cell_type": "markdown",
   "id": "bae7ba0f",
   "metadata": {},
   "source": [
    "# Misery index"
   ]
  },
  {
   "cell_type": "markdown",
   "id": "86157f68",
   "metadata": {},
   "source": [
    "Does the misery index impact revenue at Starbucks?\n",
    "\n",
    "$H_{0}$ The misery index does not influence revenue.\n",
    "\n",
    "$H_{a}$ The misery index does influence revenue."
   ]
  },
  {
   "cell_type": "code",
   "execution_count": null,
   "id": "a621ff79",
   "metadata": {},
   "outputs": [],
   "source": [
    "# Scatter plot to visualize the relationship\n",
    "plt.scatter(train['adjusted_revenue_S'], train['misery_index'], label='Data')\n",
    "\n",
    "# Fit a linear regression model\n",
    "slope, intercept, r_value, p_value, std_err = stats.linregress(train['adjusted_revenue_S'], train['misery_index'])\n",
    "line = slope * train['adjusted_revenue_S'] + intercept\n",
    "\n",
    "# Plot the regression line\n",
    "plt.plot(train['adjusted_revenue_S'], line, color='red', label='Regression Line')\n",
    "\n",
    "# Set plot title and labels\n",
    "plt.title('Revenue vs. Misery index')\n",
    "plt.xlabel('Total Revenue at Starbucks')\n",
    "plt.ylabel('Misery index')\n",
    "\n",
    "# Add legend\n",
    "plt.legend()\n",
    "\n",
    "# Display the plot\n",
    "plt.show()"
   ]
  },
  {
   "cell_type": "markdown",
   "id": "792839fc",
   "metadata": {},
   "source": [
    "### Stats test"
   ]
  },
  {
   "cell_type": "code",
   "execution_count": null,
   "id": "22adfda2",
   "metadata": {},
   "outputs": [],
   "source": [
    "# Run Spearman's rank correlation test\n",
    "correlation, p_value = stats.spearmanr(train.adjusted_revenue_S, train.unemp_rate)\n",
    "\n",
    "# Print the test results\n",
    "print(\"Spearman's Rank Correlation Test\")\n",
    "print(\"Correlation Coefficient:\", correlation)\n",
    "print(\"p-value:\", p_value)"
   ]
  },
  {
   "cell_type": "markdown",
   "id": "9c15e7fa",
   "metadata": {},
   "source": [
    "- based on the p-value of the spearman's rank correlation test being greater than 0.05, we fail to reject the null hypothesis and can infer that Starbucks revenue is not influenced by the misery index.\n",
    "- ***we will not push this feature into our model***"
   ]
  },
  {
   "cell_type": "markdown",
   "id": "1edd87cc",
   "metadata": {},
   "source": [
    "#### Exploration Summary\n",
    "- visualized\n",
    "- checked target for normalcy to determine parametric or non-parametric testing\n",
    "    - target is not normally distributed, therefore spearman's rank correlation test was used for all features\n",
    "- found that xxxx features tested are significant to Starbucks revenue\n"
   ]
  },
  {
   "cell_type": "markdown",
   "id": "7fd80fb9",
   "metadata": {},
   "source": [
    "# Multi-variate analysis\n"
   ]
  },
  {
   "cell_type": "code",
   "execution_count": null,
   "id": "6092ef65",
   "metadata": {},
   "outputs": [],
   "source": [
    "def multivariate_exploration(train, target_variable):\n",
    "    '''\n",
    "    Perform different combinations of visualizations to explore relationships with the target variable\n",
    "    '''\n",
    "\n",
    "    # Numeric variables for scatter plots\n",
    "    numeric_vars = train.select_dtypes(include=['float64', 'int64']).columns.tolist()\n",
    "\n",
    "    # Remove target variable from the list of numeric variables\n",
    "    numeric_vars.remove(target_variable)\n",
    "\n",
    "    # Plot scatter plots for numeric variables\n",
    "    for var in numeric_vars:\n",
    "        sns.scatterplot(x=var, y=target_variable, data=train)\n",
    "        plt.xlabel(var)\n",
    "        plt.ylabel(target_variable)\n",
    "        plt.title(f'{var} vs. {target_variable}')\n",
    "        plt.show()\n",
    "\n",
    "    # Categorical variables for box plots\n",
    "    categorical_vars = train.select_dtypes(include=['object']).columns.tolist()\n",
    "\n",
    "    # Plot box plots for categorical variables\n",
    "    for var in categorical_vars:\n",
    "        sns.boxplot(x=var, y=target_variable, data=train)\n",
    "        plt.xlabel(var)\n",
    "        plt.ylabel(target_variable)\n",
    "        plt.title(f'{var} vs. {target_variable}')\n",
    "        plt.show()\n",
    "\n",
    "    # Correlation heatmap\n",
    "    plt.figure(figsize=(12, 10))\n",
    "    corr = train.corr()\n",
    "    sns.heatmap(corr, annot=True, fmt=\".2f\", cmap='coolwarm', linewidths=0.5, square=True, cbar_kws={'shrink': 0.8})\n",
    "    plt.title('Correlation Heatmap')\n",
    "    plt.xticks(rotation=45, ha='right')\n",
    "    plt.yticks(rotation=0)\n",
    "    plt.tight_layout()\n",
    "    plt.show()\n",
    "\n",
    "    # Pairplot for selected variables\n",
    "    selected_vars = numeric_vars[:4]  # Select first 4 numeric variables for pairplot\n",
    "    selected_vars.append(target_variable)\n",
    "    sns.pairplot(df[selected_vars], diag_kind='hist', plot_kws={'alpha': 0.5})\n",
    "    plt.show()"
   ]
  },
  {
   "cell_type": "code",
   "execution_count": null,
   "id": "cc94f9c3",
   "metadata": {
    "scrolled": true
   },
   "outputs": [],
   "source": [
    "multivariate_exploration(train, 'adjusted_revenue_B')"
   ]
  },
  {
   "cell_type": "code",
   "execution_count": null,
   "id": "5b807025",
   "metadata": {},
   "outputs": [],
   "source": [
    "# Run Spearman's rank correlation test\n",
    "correlation, p_value = stats.spearmanr(train.adjusted_revenue_S, train.wars_started)\n",
    "\n",
    "# Print the test results\n",
    "print(\"Spearman's Rank Correlation Test\")\n",
    "print(\"Correlation Coefficient:\", correlation)\n",
    "print(\"p-value:\", p_value)"
   ]
  },
  {
   "cell_type": "markdown",
   "id": "b07dc490",
   "metadata": {},
   "source": [
    "# prepare data for modeling"
   ]
  },
  {
   "cell_type": "code",
   "execution_count": null,
   "id": "60d4702f",
   "metadata": {
    "scrolled": true
   },
   "outputs": [],
   "source": [
    "this_is_it = pd.read_csv('values_for_prediction_ford_adjusted.csv')\n",
    "this_is_it"
   ]
  },
  {
   "cell_type": "code",
   "execution_count": null,
   "id": "eb15181a",
   "metadata": {},
   "outputs": [],
   "source": [
    "starbucks_revenue_prediction = this_is_it[['population','median_house_income', 'unemp_rate',\n",
    "                                           'home_ownership_rate', 'government_spending',\n",
    "                                           'gdp_deflated','violent_crime_rate',\n",
    "                                           'cpi_all_items_avg','eci', 'dow', 's_and_p', \n",
    "                                           'Man_new_order', 'hdi', 'auto_loan', 'velocity_of_money', \n",
    "                                           'wti', 'brent_oil', 'case_shiller_index', 'number_of_disaster',\n",
    "                                           'c_e_s_housing', 'c_e_s_health','ease_of_doing_business']]\n",
    "starbucks_revenue_prediction"
   ]
  },
  {
   "cell_type": "code",
   "execution_count": null,
   "id": "79a2c720",
   "metadata": {},
   "outputs": [],
   "source": [
    "def scaled_df(train, test, starbucks_revenue_prediction):\n",
    "    \"\"\"\n",
    "    This function scales the train, validate, and test data using the MinMaxScaler.\n",
    "\n",
    "    Parameters:\n",
    "    train (pandas DataFrame): The training data.\n",
    "    test (pandas DataFrame): The test data.\n",
    "    ford_revenue_prediction (pandas DataFrame): The data for Ford revenue prediction.\n",
    "\n",
    "    Returns:\n",
    "    Tuple of:\n",
    "        X_train_scaled (pandas DataFrame): The scaled training data.\n",
    "        X_test_scaled (pandas DataFrame): The scaled test data.\n",
    "        y_train (pandas Series): The target variable for the training data.\n",
    "        y_test (pandas Series): The target variable for the test data.\n",
    "        X_train (pandas DataFrame): The original training data.\n",
    "        ford_revenue_prediction_scaled (pandas DataFrame): The scaled Ford revenue prediction data.\n",
    "    \"\"\"\n",
    "\n",
    "    X_train = train[['population','median_house_income', 'unemp_rate',\n",
    "                     'home_ownership_rate', 'government_spending',\n",
    "                     'gdp_deflated','violent_crime_rate',\n",
    "                     'cpi_all_items_avg','eci', 'dow', 's_and_p', \n",
    "                     'Man_new_order', 'hdi', 'auto_loan', 'velocity_of_money', \n",
    "                     'wti', 'brent_oil', 'case_shiller_index', 'number_of_disaster',\n",
    "                     'c_e_s_housing', 'c_e_s_health','ease_of_doing_business']]\n",
    "    X_test = test[['population','median_house_income', 'unemp_rate',\n",
    "                   'home_ownership_rate', 'government_spending',\n",
    "                   'gdp_deflated','violent_crime_rate',\n",
    "                   'cpi_all_items_avg','eci', 'dow', 's_and_p', \n",
    "                   'Man_new_order', 'hdi', 'auto_loan', 'velocity_of_money', \n",
    "                   'wti', 'brent_oil', 'case_shiller_index', 'number_of_disaster',\n",
    "                   'c_e_s_housing', 'c_e_s_health','ease_of_doing_business']]\n",
    "\n",
    "    y_train = train.adjusted_revenue_S\n",
    "    y_test = test.adjusted_revenue_S\n",
    "\n",
    "    # Making our scaler\n",
    "    scaler = MinMaxScaler()\n",
    "    \n",
    "    # Fitting our scaler and using it to transform train and test data\n",
    "    X_train_scaled = pd.DataFrame(scaler.fit_transform(X_train),\n",
    "                                  columns=X_train.columns,\n",
    "                                  index=X_train.index)\n",
    "    X_test_scaled = pd.DataFrame(scaler.transform(X_test),\n",
    "                                 columns=X_test.columns,\n",
    "                                 index=X_test.index)\n",
    "    \n",
    "    # Scaling the Ford revenue prediction data\n",
    "    starbucks_revenue_prediction_scaled = pd.DataFrame(scaler.transform(starbucks_revenue_prediction.values.reshape(1, -1)),\n",
    "                                                  columns=starbucks_revenue_prediction.columns,\n",
    "                                                  index=starbucks_revenue_prediction.index)\n",
    "\n",
    "    return X_train_scaled, X_test_scaled, y_train, y_test, X_train, starbucks_revenue_prediction_scaled\n"
   ]
  },
  {
   "cell_type": "code",
   "execution_count": null,
   "id": "5ce8dfbf",
   "metadata": {},
   "outputs": [],
   "source": [
    "X_train_scaled, X_test_scaled, y_train, y_test, X_train, starbucks_revenue_prediction_scaled = scaled_df(train, test, starbucks_revenue_prediction)\n",
    "X_train_scaled.head()"
   ]
  },
  {
   "cell_type": "code",
   "execution_count": null,
   "id": "698b5e35",
   "metadata": {},
   "outputs": [],
   "source": [
    "starbucks_revenue_prediction_scaled "
   ]
  },
  {
   "cell_type": "code",
   "execution_count": null,
   "id": "43aa7df7",
   "metadata": {},
   "outputs": [],
   "source": [
    "def metrics_reg(y, yhat):\n",
    "    \"\"\"\n",
    "    send in y_true, y_pred & returns RMSE, R2\n",
    "    \"\"\"\n",
    "    rmse = mean_squared_error(y, yhat, squared=False)\n",
    "    r2 = r2_score(y, yhat)\n",
    "    return rmse, r2"
   ]
  },
  {
   "cell_type": "code",
   "execution_count": null,
   "id": "780968f6",
   "metadata": {},
   "outputs": [],
   "source": [
    "def baseline_model(train, y_train):\n",
    "    \"\"\"\n",
    "    Creates a baseline model using the mean of the target variable and evaluates its performance.\n",
    "\n",
    "    Parameters:\n",
    "        train (pandas DataFrame): The training data containing the feature variables.\n",
    "        y_train (pandas Series): The target variable for the training data.\n",
    "\n",
    "    Returns:\n",
    "        pandas DataFrame: A DataFrame containing the evaluation metrics of the baseline model.\n",
    "\n",
    "    The function creates a baseline model by setting the predicted value as the mean of the target variable (y_train).\n",
    "    It calculates the root mean squared error (RMSE) and R^2 score of the baseline model using the y_train values\n",
    "    and an array filled with the mean value. The RMSE and R^2 score are added to a DataFrame for comparison.\n",
    "\n",
    "    Additionally, the function prints the baseline value and returns the DataFrame with the evaluation metrics.\n",
    "    \"\"\"\n",
    "    #set baseline\n",
    "    baseline = round(y_train.mean(),2)\n",
    "\n",
    "    #make an array to send into my mean_square_error function\n",
    "    baseline_array = np.repeat(baseline, len(train))\n",
    "\n",
    "    # Evaluate the baseline rmse and r2\n",
    "    rmse, r2 = metrics_reg(y_train, baseline_array)\n",
    "\n",
    "    # add results to a dataframe for comparison\n",
    "    metrics_df = pd.DataFrame(data=[\n",
    "    {\n",
    "        'model':'Baseline',\n",
    "        'rmse':rmse,\n",
    "        'r2':r2\n",
    "    }\n",
    "    ])\n",
    "    \n",
    "    # print baseline\n",
    "    baseline = round(y_train.mean(),2)\n",
    "    print(f' Baseline mean is : {baseline}')\n",
    "    return metrics_df"
   ]
  },
  {
   "cell_type": "code",
   "execution_count": null,
   "id": "cf135402",
   "metadata": {},
   "outputs": [],
   "source": [
    "metrics_df = baseline_model(train, y_train)\n",
    "metrics_df"
   ]
  },
  {
   "cell_type": "code",
   "execution_count": null,
   "id": "3562aac5",
   "metadata": {},
   "outputs": [],
   "source": [
    "def multiple_regression(X_train_scaled, X_test_scaled, y_train, y_test, metrics_df):\n",
    "    \"\"\"\n",
    "    Performs multiple regression using Recursive Feature Elimination (RFE) and evaluates the model's performance.\n",
    "\n",
    "    Parameters:\n",
    "        X_train_scaled (pandas DataFrame): The scaled feature variables of the training data.\n",
    "        X_test_scaled (pandas DataFrame): The scaled feature variables of the test data.\n",
    "        y_train (pandas Series): The target variable for the training data.\n",
    "        y_test (pandas Series): The target variable for the test data.\n",
    "        metrics_df (pandas DataFrame): A DataFrame to store the evaluation metrics.\n",
    "\n",
    "    Returns:\n",
    "        pandas DataFrame: The updated metrics DataFrame with the evaluation metrics of the multiple regression model.\n",
    "    \"\"\"\n",
    "    # Define the model\n",
    "    model = LinearRegression()\n",
    "\n",
    "    # Create the RFE object\n",
    "    rfe = RFE(estimator=model, n_features_to_select=15)  \n",
    "\n",
    "    # Fit the RFE object to the training data\n",
    "    rfe.fit(X_train_scaled, y_train)\n",
    "\n",
    "    # Get the selected features\n",
    "    selected_features = X_train_scaled.columns[rfe.support_].tolist()\n",
    "\n",
    "    # Transform the data using the selected features\n",
    "    X_train_rfe = rfe.transform(X_train_scaled)\n",
    "    X_test_rfe = rfe.transform(X_test_scaled)\n",
    "\n",
    "    # Fit the model on the transformed training data\n",
    "    model.fit(X_train_rfe, y_train)\n",
    "\n",
    "    # Make predictions on the transformed test data\n",
    "    pred_test_OLS = model.predict(X_test_rfe)\n",
    "\n",
    "    # Evaluate the model on the test data\n",
    "    rmse, r2 = metrics_reg(y_test, pred_test_OLS)\n",
    "\n",
    "    # Add evaluation metrics to the provided metrics DataFrame\n",
    "    metrics_df.loc[1] = ['Multiple Regression', rmse, r2]\n",
    "\n",
    "    return metrics_df, selected_features, model\n",
    "\n",
    "\n"
   ]
  },
  {
   "cell_type": "code",
   "execution_count": null,
   "id": "5b8a8623",
   "metadata": {
    "scrolled": true
   },
   "outputs": [],
   "source": [
    "metrics_df, selected_features, model = multiple_regression(X_train_scaled, X_test_scaled, y_train, y_test, metrics_df)\n",
    "metrics_df"
   ]
  },
  {
   "cell_type": "code",
   "execution_count": null,
   "id": "ff9fa403",
   "metadata": {},
   "outputs": [],
   "source": [
    "def LassoLars_model(X_train_scaled, X_test_scaled, y_train, y_test, metrics_df):\n",
    "    \"\"\"\n",
    "    Performs LassoLars regression and evaluates the model's performance.\n",
    "\n",
    "    Parameters:\n",
    "        X_train_scaled (pandas DataFrame): The scaled feature variables of the training data.\n",
    "        X_test_scaled (pandas DataFrame): The scaled feature variables of the test data.\n",
    "        y_train (pandas Series): The target variable for the training data.\n",
    "        y_test (pandas Series): The target variable for the test data.\n",
    "        metrics_df (pandas DataFrame): A DataFrame to store the evaluation metrics.\n",
    "\n",
    "    Returns:\n",
    "        pandas DataFrame: The updated metrics DataFrame with the evaluation metrics of the LassoLars model.\n",
    "    \"\"\"\n",
    "    # Define the model and the hyperparameter grid\n",
    "    model = LassoLars(normalize=False)\n",
    "    param_grid = {\n",
    "        'alpha': [0,0.1,0.25,0.5,0.75, 1],  # Example hyperparameter values to search through\n",
    "        'normalize': [True, False]\n",
    "    }\n",
    "\n",
    "    # Create the GridSearchCV object\n",
    "    grid_search = GridSearchCV(estimator=model, param_grid=param_grid, scoring='neg_mean_squared_error', cv=5)\n",
    "\n",
    "    # Fit the GridSearchCV object to the training data\n",
    "    grid_search.fit(X_train_scaled, y_train)\n",
    "\n",
    "    # Get the best model and its hyperparameters\n",
    "    best_model = grid_search.best_estimator_\n",
    "    best_params = grid_search.best_params_\n",
    "\n",
    "    # Make predictions on the test data using the best model\n",
    "    pred_test_lars = best_model.predict(X_test_scaled)\n",
    "\n",
    "    # Evaluate the model on the test data\n",
    "    rmse, r2 = metrics_reg(y_test, pred_test_lars)\n",
    "\n",
    "    # Add evaluation metrics to the provided metrics DataFrame\n",
    "    metrics_df.loc[2] = ['LassoLars', rmse, r2]\n",
    "\n",
    "    return metrics_df"
   ]
  },
  {
   "cell_type": "code",
   "execution_count": null,
   "id": "31e0c26c",
   "metadata": {},
   "outputs": [],
   "source": [
    "LassoLars_model(X_train_scaled, X_test_scaled, y_train, y_test, metrics_df)"
   ]
  },
  {
   "cell_type": "code",
   "execution_count": null,
   "id": "ea8198d9",
   "metadata": {},
   "outputs": [],
   "source": [
    "def Generalized_Linear_Model(X_train_scaled, X_test_scaled, y_train, y_test, metrics_df):\n",
    "    \"\"\"\n",
    "    Fits a Generalized Linear Model (GLM) and evaluates its performance.\n",
    "\n",
    "    Parameters:\n",
    "        X_train_scaled (pandas DataFrame): The scaled feature variables of the training data.\n",
    "        X_test_scaled (pandas DataFrame): The scaled feature variables of the test data.\n",
    "        y_train (pandas Series): The target variable for the training data.\n",
    "        y_test (pandas Series): The target variable for the test data.\n",
    "        metrics_df (pandas DataFrame): A DataFrame to store the evaluation metrics.\n",
    "\n",
    "    Returns:\n",
    "        pandas DataFrame: The updated metrics DataFrame with the evaluation metrics of the GLM.\n",
    "    \"\"\"\n",
    "    # Define the model and the hyperparameter grid\n",
    "    model = TweedieRegressor()\n",
    "    param_grid = {\n",
    "        'alpha': [0, 0.5, 1],  # Example values for alpha\n",
    "        'power': [0, 1, 2]  # Example values for power\n",
    "    }\n",
    "\n",
    "    # Create the GridSearchCV object\n",
    "    grid_search = GridSearchCV(estimator=model, param_grid=param_grid, scoring='neg_mean_squared_error', cv=5)\n",
    "\n",
    "    # Fit the GridSearchCV object to the training data\n",
    "    grid_search.fit(X_train_scaled, y_train)\n",
    "\n",
    "    # Get the best model and its hyperparameters\n",
    "    best_model = grid_search.best_estimator_\n",
    "    best_params = grid_search.best_params_\n",
    "\n",
    "    # Make predictions on the test data using the best model\n",
    "    pred_test_glm = best_model.predict(X_test_scaled)\n",
    "\n",
    "    # Evaluate the model on the test data\n",
    "    rmse, r2 = metrics_reg(y_test, pred_test_glm)\n",
    "\n",
    "    # Add evaluation metrics to the provided metrics DataFrame\n",
    "    metrics_df.loc[4] = ['Generalized Linear Model', rmse, r2]\n",
    "\n",
    "    return metrics_df"
   ]
  },
  {
   "cell_type": "code",
   "execution_count": null,
   "id": "a93b269d",
   "metadata": {},
   "outputs": [],
   "source": [
    "Generalized_Linear_Model(X_train_scaled, X_test_scaled, y_train, y_test, metrics_df)"
   ]
  },
  {
   "cell_type": "code",
   "execution_count": null,
   "id": "7021ade0",
   "metadata": {},
   "outputs": [],
   "source": [
    "from sklearn.pipeline import Pipeline\n",
    "from sklearn.model_selection import GridSearchCV\n",
    "from sklearn.preprocessing import PolynomialFeatures\n",
    "from sklearn.linear_model import LinearRegression\n",
    "\n",
    "def polynomial_regression(X_train_scaled, X_test_scaled, y_train, y_test, metrics_df):\n",
    "    \"\"\"\n",
    "    Performs polynomial regression and evaluates the model's performance.\n",
    "\n",
    "    Parameters:\n",
    "        X_train_scaled (pandas DataFrame): The scaled feature variables of the training data.\n",
    "        X_test_scaled (pandas DataFrame): The scaled feature variables of the test data.\n",
    "        y_train (pandas Series): The target variable for the training data.\n",
    "        y_test (pandas Series): The target variable for the test data.\n",
    "        metrics_df (pandas DataFrame): A DataFrame to store the evaluation metrics.\n",
    "\n",
    "    Returns:\n",
    "        pandas DataFrame: The updated metrics DataFrame with the evaluation metrics of the polynomial regression model.\n",
    "    \"\"\"\n",
    "    # Create the pipeline\n",
    "    pipeline = Pipeline([\n",
    "        ('polynomialfeatures', PolynomialFeatures()),\n",
    "        ('linearregression', LinearRegression())\n",
    "    ])\n",
    "\n",
    "    # Define the hyperparameter grid\n",
    "    param_grid = {\n",
    "        'polynomialfeatures__degree': [1, 2, 3, 4, 5]  \n",
    "    }\n",
    "\n",
    "    # Create the GridSearchCV object\n",
    "    grid_search = GridSearchCV(estimator=pipeline, param_grid=param_grid, scoring='neg_mean_squared_error', cv=5)\n",
    "\n",
    "    # Fit the GridSearchCV object to the training data\n",
    "    grid_search.fit(X_train_scaled, y_train)\n",
    "\n",
    "    # Get the best model and its hyperparameters\n",
    "    best_model = grid_search.best_estimator_\n",
    "    best_params = grid_search.best_params_\n",
    "\n",
    "    # Make predictions on the test data using the best model\n",
    "    pred_test_pr = best_model.predict(X_test_scaled)\n",
    "\n",
    "    # Evaluate the model on the test data\n",
    "    rmse, r2 = metrics_reg(y_test, pred_test_pr)\n",
    "\n",
    "    # Add evaluation metrics to the provided metrics DataFrame\n",
    "    metrics_df.loc[3] = ['Polynomial Regression(PR)', rmse, r2]\n",
    "\n",
    "    return metrics_df\n"
   ]
  },
  {
   "cell_type": "code",
   "execution_count": null,
   "id": "cb05cb67",
   "metadata": {},
   "outputs": [],
   "source": [
    "polynomial_regression(X_train_scaled, X_test_scaled, y_train, y_test, metrics_df)"
   ]
  },
  {
   "cell_type": "markdown",
   "id": "a51bbd62",
   "metadata": {},
   "source": [
    "# Make the prediction"
   ]
  },
  {
   "cell_type": "code",
   "execution_count": null,
   "id": "40ee7622",
   "metadata": {},
   "outputs": [],
   "source": [
    "# Pass the preprocessed single line of data to the best_model\n",
    "pred_value = best_model.predict(starbucks_revenue_prediction_scaled)\n",
    "\n",
    "# Print the predicted value\n",
    "print(pred_value)\n"
   ]
  },
  {
   "cell_type": "markdown",
   "id": "ad1fe0b8",
   "metadata": {},
   "source": [
    "# Summary "
   ]
  },
  {
   "cell_type": "markdown",
   "id": "36a4fb13",
   "metadata": {},
   "source": [
    "Last quarter (Q1 2023) Ford's revenue was 41.474B.\n",
    "- The goal of this project was to predict whether or not Ford's revenue would increase or decrease in the next quarter.\n",
    "    - Our team wanted to see if economic, socio-economic and evironmental factors could predict revenue gains and losses. \n",
    "- We first brainstormed many potential features.\n",
    "    - We acquired data from over 40 separate data sets and combined them into one CSV for exploration.\n",
    "    - We discovered many interesting relationships between our various independent variables.\n",
    "- Through extensive feature selection and meticulous statistical testing, we selected 15 features to send into our regression models.\n",
    "    - Key factors in making our models produce results that beat baseline RMSE and produced a respectable $R^2$ value\n",
    "        - Lagging revenue back 1 period\n",
    "            - Doing this trained the model to use previous quarters data to predict next quarters revenue\n",
    "            - We also took the 2023 2nd quarter data minus Ford's revenue and set it aside \n",
    "                - Timing is everything... Ford will release 2023 Q2 revenue on 27 July. We will be able to compare our prediction to that number. \n",
    "        - Adjusting our monetary features for inflation. \n",
    "            - We used the Consumer Price Index to perform deflation\n",
    "        - Used grid search to optimize our hyperparameters in concert with recursive feature elimination\n",
    "- We compared the results of 4 models\n",
    "| model                       | rmse      | r2              |\n",
    "|-----------------------------|-----------|-----------------|\n",
    "| Baseline                    | 9.458673  | -2.741374e-07   |\n",
    "| Multiple Regression         | 5.331748  | 7.996339e-01    |\n",
    "| LassoLars                   | 6.205169  | 7.286111e-01    |\n",
    "| Generalized Linear Model    | 5.704175  | 7.706649e-01    |\n",
    "| Polynomial Regression(PR)   | 5.331748  | 7.996339e-0     |\n",
    "\n",
    "\n",
    "- Polynomial Regression performed similarly to Multiple linear Regression because the best performing hyperparameter was degree = 1. \n",
    "\n",
    "- Once we selected the best model. We ran our best model on the set aside Q2 features. \n",
    "    - Our prediction is 39.99B in revenue. We are not predicting the actual number but using this figure to compare to last quarter and predict a slight descrease in revenue for Q2.\n"
   ]
  },
  {
   "cell_type": "markdown",
   "id": "2feed363",
   "metadata": {},
   "source": [
    "# Conclusion"
   ]
  },
  {
   "cell_type": "code",
   "execution_count": null,
   "id": "e98065a0",
   "metadata": {},
   "outputs": [],
   "source": []
  },
  {
   "cell_type": "markdown",
   "id": "722162df",
   "metadata": {},
   "source": [
    "# Next Steps"
   ]
  },
  {
   "cell_type": "code",
   "execution_count": null,
   "id": "a4bb68f9",
   "metadata": {},
   "outputs": [],
   "source": []
  },
  {
   "cell_type": "code",
   "execution_count": null,
   "id": "f21642bd",
   "metadata": {},
   "outputs": [],
   "source": []
  }
 ],
 "metadata": {
  "kernelspec": {
   "display_name": "Python 3 (ipykernel)",
   "language": "python",
   "name": "python3"
  },
  "language_info": {
   "codemirror_mode": {
    "name": "ipython",
    "version": 3
   },
   "file_extension": ".py",
   "mimetype": "text/x-python",
   "name": "python",
   "nbconvert_exporter": "python",
   "pygments_lexer": "ipython3",
   "version": "3.9.13"
  }
 },
 "nbformat": 4,
 "nbformat_minor": 5
}
