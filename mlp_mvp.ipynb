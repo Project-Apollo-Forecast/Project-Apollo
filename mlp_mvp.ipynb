{
 "cells": [
  {
   "cell_type": "code",
   "execution_count": 1,
   "metadata": {},
   "outputs": [],
   "source": [
    "#doing things with data\n",
    "import pandas as pd\n",
    "import itertools\n",
    "import numpy as np\n",
    "import scipy.stats as stats\n",
    "from scipy.stats import pearsonr\n",
    "import math\n",
    "\n",
    "#imports for visualizations\n",
    "import matplotlib.pyplot as plt\n",
    "import seaborn as sns\n",
    "\n",
    "#imports necessary for modeling\n",
    "from sklearn.feature_selection import SelectKBest, f_regression\n",
    "from sklearn.model_selection import GridSearchCV\n",
    "from sklearn.feature_selection import RFE\n",
    "from sklearn.model_selection import train_test_split\n",
    "from sklearn.linear_model import LinearRegression\n",
    "from sklearn.preprocessing import MinMaxScaler\n",
    "from sklearn.preprocessing import StandardScaler\n",
    "from sklearn.preprocessing import RobustScaler\n",
    "from sklearn.preprocessing import QuantileTransformer\n",
    "from sklearn.linear_model import LassoLars\n",
    "from sklearn.linear_model import TweedieRegressor\n",
    "from sklearn.preprocessing import PolynomialFeatures\n",
    "from sklearn.metrics import r2_score\n",
    "from sklearn.metrics import r2_score, mean_squared_error\n",
    "from sklearn.metrics import make_scorer\n",
    "\n",
    "#import .py files\n",
    "import wrangle as w\n",
    "import explore as e\n",
    "import modeling as m\n",
    "import MPL_modeling_1 as mpl1\n",
    "import MPL_modeling as mpl\n",
    "\n",
    "#ignore warnings\n",
    "import warnings\n",
    "warnings.filterwarnings(\"ignore\")\n",
    "\n"
   ]
  },
  {
   "cell_type": "code",
   "execution_count": 2,
   "metadata": {},
   "outputs": [],
   "source": [
    "#import csv for exploration\n",
    "df = w.get_data()\n",
    "#split data into train, validate, test\n",
    "train, test = e.split_data(df)"
   ]
  },
  {
   "cell_type": "markdown",
   "metadata": {},
   "source": [
    "# Deep Learning Modeling with Multilayer Perceptron Model for Regression \n",
    "    "
   ]
  },
  {
   "cell_type": "markdown",
   "metadata": {},
   "source": [
    "### The function below will run through a dictionary with the following MLP parameters creating and validating each model \n",
    "* Optimizers: rmsprop, adam\n",
    "* Learning rates: .001, .01, .1\n",
    "* Activations: relu, tanh\n",
    "* Neurons: 8, 13, 21\n",
    "\n",
    "* All models run through 5000 epochs\n",
    "\n",
    "### The function will then predict using the best model and take the average of the RMSE and predicted revenue across 10 \n"
   ]
  },
  {
   "cell_type": "markdown",
   "metadata": {},
   "source": [
    "#### Note: Due to  the stochastic nature of neural networks specific results will vary."
   ]
  },
  {
   "cell_type": "markdown",
   "metadata": {},
   "source": [
    "## Running the MLP on the Starbucks Data"
   ]
  },
  {
   "cell_type": "code",
   "execution_count": 3,
   "metadata": {},
   "outputs": [
    {
     "name": "stdout",
     "output_type": "stream",
     "text": [
      "Best MSE: 0.030\n",
      "Best RMSE: 0.173\n",
      "Best Parameters: {'optimizer': 'rmsprop', 'learning_rate': 0.01, 'activation': 'relu', 'neurons': 13}\n",
      "1/1 [==============================] - 0s 85ms/step\n",
      "This is the predictied next quarter revenue for Starbucks: [[9.143598]] billion dollars\n"
     ]
    }
   ],
   "source": [
    "# Get prediction data for Starbucks\n",
    "starbucks_revenue_prediction = m.get_starbucks_Q1_2023_data_for_prediction()\n",
    "# Run scale data function for Starbucks \n",
    "X_train_scaled, X_test_scaled, y_train, y_test, X_train, starbucks_revenue_prediction_scaled = m.starbucks_scaled_df(train, test, starbucks_revenue_prediction)\n",
    "#calls the function to run the MLP model\n",
    "mpl.auto_perceptron(\"Starbucks\", X_train_scaled, y_train, X_test_scaled, y_test, starbucks_revenue_prediction_scaled)"
   ]
  },
  {
   "cell_type": "code",
   "execution_count": 4,
   "metadata": {},
   "outputs": [
    {
     "name": "stdout",
     "output_type": "stream",
     "text": [
      "1/1 [==============================] - 0s 56ms/step\n",
      "1/1 [==============================] - 0s 55ms/step\n",
      "1/1 [==============================] - 0s 54ms/step\n",
      "1/1 [==============================] - 0s 268ms/step\n",
      "1/1 [==============================] - 0s 53ms/step\n",
      "1/1 [==============================] - 0s 51ms/step\n",
      "1/1 [==============================] - 0s 52ms/step\n",
      "1/1 [==============================] - 0s 56ms/step\n",
      "1/1 [==============================] - 0s 57ms/step\n",
      "1/1 [==============================] - 0s 55ms/step\n",
      "This is the average predicted next quarter revenue for Starbucks: [[9.01923]] billion dollars\n",
      "This is the average rmse for Starbucks: 0.28405689400172146 billion dollars\n"
     ]
    }
   ],
   "source": [
    "#calls the function to run the MLP model 10 times and get the average RMSE and prediction for next quarter\n",
    "mpl.predict_next_quarter_avg(\"Starbucks\", X_train_scaled, X_test_scaled, y_test, y_train, starbucks_revenue_prediction_scaled)"
   ]
  },
  {
   "cell_type": "markdown",
   "metadata": {},
   "source": [
    "### Starbucks modeling summary\n",
    "- Using a multilayer perceptron regression deep learning model on test data:\n",
    "     - beat the ML model's baseline RMSE (2.08) with an average test RMSE of 0.29, \n",
    "- The final predicted revenue value for Starbucks 2023 Q2 is **9.0B**\n",
    "     - fun fact, we checked if Starbucks had released their Q2 data.... Their reported revenue for 2023 Q2 will be released on the ***1st of Aug*** "
   ]
  },
  {
   "cell_type": "markdown",
   "metadata": {},
   "source": [
    "## Running the MLP on the Ford Data"
   ]
  },
  {
   "cell_type": "code",
   "execution_count": 5,
   "metadata": {},
   "outputs": [
    {
     "name": "stdout",
     "output_type": "stream",
     "text": [
      "Best MSE: 22.648\n",
      "Best RMSE: 4.759\n",
      "Best Parameters: {'optimizer': 'adam', 'learning_rate': 0.01, 'activation': 'relu', 'neurons': 8}\n",
      "1/1 [==============================] - 0s 52ms/step\n",
      "This is the predictied next quarter revenue for Ford: [[45.238247]] billion dollars\n"
     ]
    }
   ],
   "source": [
    "# Get prediction data for Ford\n",
    "ford_revenue_prediction = m.get_ford_Q1_2023_data_for_prediction()\n",
    "# Scale data for modeling \n",
    "X_train_scaled, X_test_scaled, y_train, y_test, X_train, ford_revenue_prediction_scaled = m.ford_scaled_df(train, test,ford_revenue_prediction)\n",
    "#calls the function to run the MLP model\n",
    "mpl.auto_perceptron(\"Ford\", X_train_scaled, y_train, X_test_scaled, y_test, ford_revenue_prediction_scaled)\n"
   ]
  },
  {
   "cell_type": "code",
   "execution_count": 6,
   "metadata": {},
   "outputs": [
    {
     "name": "stdout",
     "output_type": "stream",
     "text": [
      "1/1 [==============================] - 0s 50ms/step\n",
      "1/1 [==============================] - 0s 51ms/step\n",
      "1/1 [==============================] - 0s 49ms/step\n",
      "1/1 [==============================] - 0s 49ms/step\n",
      "1/1 [==============================] - 0s 52ms/step\n",
      "1/1 [==============================] - 0s 50ms/step\n",
      "1/1 [==============================] - 0s 52ms/step\n",
      "1/1 [==============================] - 0s 51ms/step\n",
      "1/1 [==============================] - 0s 51ms/step\n",
      "1/1 [==============================] - 0s 51ms/step\n",
      "This is the average predicted next quarter revenue for Ford: [[43.705772]] billion dollars\n",
      "This is the average rmse for Ford: 5.57420093330736 billion dollars\n"
     ]
    }
   ],
   "source": [
    "#calls the function to run the MLP model 10 times and get the average RMSE and prediction for next quarter\n",
    "mpl.predict_next_quarter_avg(\"Ford\", X_train_scaled, X_test_scaled, y_test, y_train, ford_revenue_prediction_scaled)"
   ]
  },
  {
   "cell_type": "markdown",
   "metadata": {},
   "source": [
    "### Ford Modeling summary\n",
    "- Using a multilayer perceptron regression deep learning model test data\n",
    "     - beat the ML regression model's baseline RMSE (9.46) and best performing ML model's score (6.21) with an average test RMSE score of 5.57.\n",
    "- The final predicted revenue value for Ford 2023 Q2 is **43.70B**\n",
    "   - fun fact, we will verify this number on ***27 July 2023***, when Ford releases their Q2 earnings. "
   ]
  },
  {
   "cell_type": "markdown",
   "metadata": {},
   "source": [
    "## Running the MLP on the AT&T Data"
   ]
  },
  {
   "cell_type": "code",
   "execution_count": 7,
   "metadata": {},
   "outputs": [
    {
     "name": "stdout",
     "output_type": "stream",
     "text": [
      "Best MSE: 20.379\n",
      "Best RMSE: 4.514\n",
      "Best Parameters: {'optimizer': 'rmsprop', 'learning_rate': 0.001, 'activation': 'tanh', 'neurons': 21}\n",
      "1/1 [==============================] - 0s 52ms/step\n",
      "This is the predictied next quarter revenue for AT&T: [[30.822668]] billion dollars\n"
     ]
    }
   ],
   "source": [
    "# Get prediction data for ATT\n",
    "att_revenue_prediction = m.get_att_Q1_2023_data_for_prediction()\n",
    "# Scale data for modeling \n",
    "X_train_scaled, X_test_scaled, y_train, y_test, X_train, att_revenue_prediction_scaled = m.att_scaled_df(train, test,att_revenue_prediction)\n",
    "#calls the function to run the MLP model\n",
    "mpl.auto_perceptron(\"AT&T\", X_train_scaled, y_train, X_test_scaled, y_test, att_revenue_prediction_scaled)"
   ]
  },
  {
   "cell_type": "code",
   "execution_count": 8,
   "metadata": {},
   "outputs": [
    {
     "name": "stdout",
     "output_type": "stream",
     "text": [
      "1/1 [==============================] - 0s 52ms/step\n",
      "1/1 [==============================] - 0s 52ms/step\n",
      "1/1 [==============================] - 0s 50ms/step\n",
      "1/1 [==============================] - 0s 52ms/step\n",
      "1/1 [==============================] - 0s 55ms/step\n",
      "1/1 [==============================] - 0s 55ms/step\n",
      "1/1 [==============================] - 0s 54ms/step\n",
      "1/1 [==============================] - 0s 260ms/step\n",
      "1/1 [==============================] - 0s 53ms/step\n",
      "1/1 [==============================] - 0s 53ms/step\n",
      "This is the average predicted next quarter revenue for AT&T: [[31.020859]] billion dollars\n",
      "This is the average rmse for AT&T: 5.763621749070326 billion dollars\n"
     ]
    }
   ],
   "source": [
    "#calls the function to run the MLP model 10 times and get the average RMSE and prediction for next quarter\n",
    "mpl.predict_next_quarter_avg(\"AT&T\", X_train_scaled, X_test_scaled, y_test, y_train, att_revenue_prediction_scaled)"
   ]
  },
  {
   "cell_type": "markdown",
   "metadata": {},
   "source": [
    "### AT&T modeling summary\n",
    "- Using a multilayer perceptron regression deep learning model \n",
    "    - beat the baseline regression model's RMSE (10.91) and the best performing ML model (6.12) with an average RMSE score of 5.76\n",
    "- The average predicted revenue value for ATT 2023 Q2 is **31.02B**\n",
    "     - Their reported revenue for 2023 Q2 is due to be released on ***26 July!!!!!*** \n",
    "     "
   ]
  }
 ],
 "metadata": {
  "kernelspec": {
   "display_name": "Python 3 (ipykernel)",
   "language": "python",
   "name": "python3"
  },
  "language_info": {
   "codemirror_mode": {
    "name": "ipython",
    "version": 3
   },
   "file_extension": ".py",
   "mimetype": "text/x-python",
   "name": "python",
   "nbconvert_exporter": "python",
   "pygments_lexer": "ipython3",
   "version": "3.9.13"
  }
 },
 "nbformat": 4,
 "nbformat_minor": 2
}
